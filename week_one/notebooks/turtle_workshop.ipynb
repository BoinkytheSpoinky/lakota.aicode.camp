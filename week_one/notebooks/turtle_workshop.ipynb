{
 "cells": [
  {
   "cell_type": "code",
   "execution_count": 1,
   "metadata": {},
   "outputs": [
    {
     "data": {
      "application/vnd.jupyter.widget-view+json": {
       "model_id": "5f43fa8d35794767b6611893bd4a76c5",
       "version_major": 2,
       "version_minor": 0
      },
      "text/plain": [
       "Turtle()"
      ]
     },
     "metadata": {},
     "output_type": "display_data"
    },
    {
     "ename": "AttributeError",
     "evalue": "'Turtle' object has no attribute 'goto'",
     "output_type": "error",
     "traceback": [
      "\u001b[1;31m---------------------------------------------------------------------------\u001b[0m",
      "\u001b[1;31mAttributeError\u001b[0m                            Traceback (most recent call last)",
      "Input \u001b[1;32mIn [1]\u001b[0m, in \u001b[0;36m<cell line: 36>\u001b[1;34m()\u001b[0m\n\u001b[0;32m      2\u001b[0m t \u001b[38;5;241m=\u001b[39m Turtle()\n\u001b[0;32m      5\u001b[0m \u001b[38;5;66;03m# t.speed(5)\u001b[39;00m\n\u001b[0;32m      6\u001b[0m \u001b[38;5;66;03m# colours=[\"red\",\"blue\",\"yellow\",\"brown\",\"black\",\"purple\",\"green\"]\u001b[39;00m\n\u001b[0;32m      7\u001b[0m \n\u001b[1;32m   (...)\u001b[0m\n\u001b[0;32m     33\u001b[0m \u001b[38;5;66;03m#     elif inp == \"end\":\u001b[39;00m\n\u001b[0;32m     34\u001b[0m \u001b[38;5;66;03m#         continue\u001b[39;00m\n\u001b[1;32m---> 36\u001b[0m \u001b[43mt\u001b[49m\u001b[38;5;241;43m.\u001b[39;49m\u001b[43mgoto\u001b[49m(\u001b[38;5;241m5\u001b[39m, \u001b[38;5;241m5\u001b[39m)\n",
      "\u001b[1;31mAttributeError\u001b[0m: 'Turtle' object has no attribute 'goto'"
     ]
    }
   ],
   "source": [
    "from mobilechelonian import Turtle\n",
    "t = Turtle()\n",
    "\n",
    "\n",
    "# t.speed(5)\n",
    "# colours=[\"red\",\"blue\",\"yellow\",\"brown\",\"black\",\"purple\",\"green\"]\n",
    "\n",
    "# t.penup()\n",
    "# t.left(90)\n",
    "# t.forward(200)\n",
    "# t.right(90)\n",
    "# t.pendown()\n",
    "\n",
    "# for i in range (0,18):\n",
    "#     t.pencolor(colours[i%7])\n",
    "#     t.right(20)\n",
    "#     t.forward(50)\n",
    "\n",
    "# t.right(180)\n",
    "# t.penup()\n",
    "# t.home()\n",
    "\n",
    "\n",
    "# while True:\n",
    "#     inp = input(\"What do you want your turtle to do?\")\n",
    "    \n",
    "#     if inp == \"left\":\n",
    "#         t.left(90)\n",
    "#     elif inp == \"right\":\n",
    "#         t.right(90)\n",
    "#     elif inp == \"forward\":\n",
    "#         t.forward(10)\n",
    "#     elif inp == \"end\":\n",
    "#         continue\n",
    "\n",
    "t.goto(5, 5)\n"
   ]
  },
  {
   "cell_type": "markdown",
   "metadata": {},
   "source": [
    "# Turtle Commands\n",
    "1. t.left(n), t.right(n): Turn the turtle n degrees to the left or to the right\n",
    "2. t.forward(n): Move the turtle n units forward\n",
    "3. t.penup(): Moves following this command will not draw on the screen\n",
    "4. t.pendown(): \"Puts the pen back down\" after a t.penup() command\n",
    "5. t.pencolor(color_string): Changes the pen color to the given color_string\n",
    "6. t.home(): Returns Turtle to the (0, 0) location"
   ]
  },
  {
   "cell_type": "markdown",
   "metadata": {},
   "source": [
    "# Turtle Challenges\n",
    "1. Draw a square\n",
    "2. Draw a star\n",
    "3. Draw a starquilt outline\n",
    "4. Draw a dreamcatcher\n",
    "5. Draw something awesome"
   ]
  },
  {
   "cell_type": "markdown",
   "metadata": {},
   "source": [
    "# Turtle Function Challenges\n",
    "1. Draw a 3*3 grid of:\n",
    "* Squares\n",
    "* Stars\n",
    "2. Create a function for `n` pointed stars, I've started this for you below."
   ]
  },
  {
   "cell_type": "code",
   "execution_count": null,
   "metadata": {},
   "outputs": [],
   "source": [
    "def draw_hook(t, length, left=False):\n",
    "    t.forward(length)\n",
    "    \n",
    "    if left:\n",
    "        t.left(90)\n",
    "    else:\n",
    "        t.right(90)\n",
    "    \n",
    "    t.forward(length)"
   ]
  },
  {
   "cell_type": "code",
   "execution_count": null,
   "metadata": {},
   "outputs": [],
   "source": [
    "def n_pointed_star(t, n):\n",
    "    # Draw Star Here\n",
    "    pass"
   ]
  }
 ],
 "metadata": {
  "kernelspec": {
   "display_name": "Python 3 (ipykernel)",
   "language": "python",
   "name": "python3"
  },
  "language_info": {
   "codemirror_mode": {
    "name": "ipython",
    "version": 3
   },
   "file_extension": ".py",
   "mimetype": "text/x-python",
   "name": "python",
   "nbconvert_exporter": "python",
   "pygments_lexer": "ipython3",
   "version": "3.9.12"
  },
  "vscode": {
   "interpreter": {
    "hash": "7fb7ad0f8a82f954bb85aafe9ace17708734a683d44db0d426f239eb44ff10c0"
   }
  }
 },
 "nbformat": 4,
 "nbformat_minor": 2
}
