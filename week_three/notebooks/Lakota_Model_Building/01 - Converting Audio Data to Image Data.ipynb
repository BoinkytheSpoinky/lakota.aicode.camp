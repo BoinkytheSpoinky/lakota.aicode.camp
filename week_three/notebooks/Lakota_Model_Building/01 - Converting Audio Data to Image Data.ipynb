{
 "cells": [
  {
   "cell_type": "markdown",
   "id": "729bff69",
   "metadata": {},
   "source": [
    "## How do we convert our audio files to image files?"
   ]
  },
  {
   "cell_type": "code",
   "execution_count": 1,
   "id": "fa5b21d7",
   "metadata": {},
   "outputs": [],
   "source": [
    "import librosa\n",
    "import librosa.display\n",
    "import matplotlib.pyplot as plt\n",
    "import numpy as np\n",
    "import os"
   ]
  },
  {
   "cell_type": "code",
   "execution_count": 2,
   "id": "3bf88a84",
   "metadata": {},
   "outputs": [],
   "source": [
    "def audio_to_melspectrogram_image(audio_path, output_path, sr=22050, n_mels=128, fmax=8000):\n",
    "    y, sr = librosa.load(audio_path, sr=sr)\n",
    "    mel = librosa.feature.melspectrogram(y=y, sr=sr, n_mels=n_mels, fmax=fmax)\n",
    "    mel_db = librosa.power_to_db(mel, ref=np.max)\n",
    "\n",
    "    plt.figure(figsize=(2.24, 2.24))  # For 224x224 px output\n",
    "    librosa.display.specshow(mel_db, sr=sr, fmax=fmax, cmap='viridis')\n",
    "    plt.axis('off')\n",
    "    plt.tight_layout()\n",
    "    plt.savefig(output_path, bbox_inches='tight', pad_inches=0)\n",
    "    plt.close()"
   ]
  },
  {
   "cell_type": "code",
   "execution_count": 3,
   "id": "b9a43c7d",
   "metadata": {},
   "outputs": [],
   "source": [
    "input_dir = \"/workspace/data/augmented_audio\"\n",
    "output_dir = \"/workspace/data/lakota_data\"\n",
    "os.makedirs(output_dir, exist_ok=True)\n",
    "\n",
    "for root, _, files in os.walk(input_dir):\n",
    "    for fname in files:\n",
    "        if fname.endswith(\".wav\"):\n",
    "            rel_path = os.path.relpath(root, input_dir)  # e.g., 'red' or 'yellow'\n",
    "            input_path = os.path.join(root, fname)\n",
    "\n",
    "            # Construct output path with same subdir structure\n",
    "            target_dir = os.path.join(output_dir, rel_path)\n",
    "            os.makedirs(target_dir, exist_ok=True)\n",
    "\n",
    "            output_path = os.path.join(target_dir, fname.replace(\".wav\", \".png\"))\n",
    "            audio_to_melspectrogram_image(input_path, output_path)"
   ]
  },
  {
   "cell_type": "code",
   "execution_count": 4,
   "id": "2c102e4a",
   "metadata": {},
   "outputs": [
    {
     "data": {
      "text/plain": [
       "'/workspace/data/lakota_data.zip'"
      ]
     },
     "execution_count": 4,
     "metadata": {},
     "output_type": "execute_result"
    }
   ],
   "source": [
    "import shutil\n",
    "\n",
    "shutil.make_archive(\"/workspace/data/lakota_data\", 'zip', \"/workspace/data/lakota_data\")"
   ]
  }
 ],
 "metadata": {
  "kernelspec": {
   "display_name": "Python 3 (ipykernel)",
   "language": "python",
   "name": "python3"
  },
  "language_info": {
   "codemirror_mode": {
    "name": "ipython",
    "version": 3
   },
   "file_extension": ".py",
   "mimetype": "text/x-python",
   "name": "python",
   "nbconvert_exporter": "python",
   "pygments_lexer": "ipython3",
   "version": "3.10.12"
  }
 },
 "nbformat": 4,
 "nbformat_minor": 5
}
