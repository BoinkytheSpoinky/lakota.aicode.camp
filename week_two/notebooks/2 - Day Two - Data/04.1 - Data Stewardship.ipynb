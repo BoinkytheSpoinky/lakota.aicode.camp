{
 "cells": [
  {
   "cell_type": "markdown",
   "id": "7544480f",
   "metadata": {},
   "source": [
    "## How should we treat data that is shared with us?"
   ]
  },
  {
   "cell_type": "markdown",
   "id": "a529f8ab",
   "metadata": {},
   "source": [
    "What are the implications, or consequences, or collecting data, and then sharing.\n",
    " - People could lose privacy.\n",
    " - Misuse of data.\n",
    " - Someone could use the data to impersonate the source, like a person's voice.\n",
    " \n",
    "What are responsible ways to use data, and be a good steward?\n",
    " - Keep information secure.\n",
    "  - Communicate how you are keeping it secure.\n",
    " - Ask permission from whoever you are collecting the data.\n",
    " - How can the person you're collecting from remove it, or ask for it back.\n",
    " - Letting folks know how it may affect them. How the data will be used.\n",
    " \n",
    "How will we ask for others data?\n",
    " - Asking face to face, can I use your voice?\n",
    "  - If not, can I use an image of your voice?\n",
    " - Communicate how you will keep it safe.\n",
    "     - Encryption, in addition to a strong password.\n",
    "     - Process for deleting the information if it's at risk.\n",
    " - How can those that share with us, remove their data.\n",
    " - How will I use the data.\n",
    " - How long will I keep the data.\n",
    " - Who else will have access to the data?\n",
    " - Do I have power over you where you think you don't have a choice?\n",
    " - What do I want to do with the data? Why do I need it?"
   ]
  }
 ],
 "metadata": {
  "kernelspec": {
   "display_name": "Python 3 (ipykernel)",
   "language": "python",
   "name": "python3"
  },
  "language_info": {
   "codemirror_mode": {
    "name": "ipython",
    "version": 3
   },
   "file_extension": ".py",
   "mimetype": "text/x-python",
   "name": "python",
   "nbconvert_exporter": "python",
   "pygments_lexer": "ipython3",
   "version": "3.10.12"
  }
 },
 "nbformat": 4,
 "nbformat_minor": 5
}
