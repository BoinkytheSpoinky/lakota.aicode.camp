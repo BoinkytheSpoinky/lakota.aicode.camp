{
 "cells": [
  {
   "cell_type": "markdown",
   "metadata": {},
   "source": [
    "# Day 0 - Block 3: Drawing with Code - Intro to Python Turtle!\n",
    "\n",
    "**Session Goals:**\n",
    "1.  Meet the Python Turtle! Learn how to make it draw on your screen.\n",
    "2.  Control your turtle's movements: forward, backward, left, and right.\n",
    "3.  Learn to lift the turtle's pen up and put it down.\n",
    "4.  Change your turtle's color and pen size.\n",
    "5.  Draw your first shapes and prepare for your Turtle homework!\n",
    "\n",
    "**Important Reminder:**\n",
    "*   We'll write our Turtle code in **Python scripts** (files ending with `.py`) using VS Code/Cursor.\n",
    "*   Create a new file (e.g., `my_first_turtle_drawing.py`).\n",
    "*   Type the Python code from the examples below into that file.\n",
    "*   Run your script from the VS Code/Cursor terminal: `python your_file_name.py`\n",
    "*   A new window should pop up with your Turtle drawing!"
   ]
  },
  {
   "cell_type": "markdown",
   "metadata": {},
   "source": [
    "## Part 1: Meeting Your Turtle & Getting Started (Approx. 20 mins)\n",
    "\n",
    "The \"turtle\" is a small icon on your screen that you can control with Python commands. It leaves a trail as it moves, allowing you to draw!\n",
    "\n",
    "**Step 1: Import the Turtle Library**\n",
    "Every Turtle script starts by importing the `turtle` library. This gives you access to all the Turtle commands.\n",
    "\n",
    "**Step 2: Create a Drawing Screen**\n",
    "This is the window where your turtle will draw.\n",
    "\n",
    "**Step 3: Create Your Turtle**\n",
    "You can create one or more turtles! Each turtle can have its own shape, color, and speed.\n",
    "\n",
    "**Step 4: First Moves!**\n",
    "Let's make the turtle move forward and turn."
   ]
  },
  {
   "cell_type": "code",
   "execution_count": 1,
   "metadata": {},
   "outputs": [
    {
     "name": "stdout",
     "output_type": "stream",
     "text": [
      "Hello, future Python programmers!\n",
      "Number of students: 20\n",
      "An approximation of pi is: 3.14159\n",
      "Is learning fun? True\n"
     ]
    }
   ],
   "source": [
    "# --- Code for your .py file ---\n",
    "\n",
    "# Step 1: Import the turtle library\n",
    "import turtle\n",
    "\n",
    "# Step 2: Create a drawing screen\n",
    "# We often call the screen 'wn' (short for window) or 'screen'\n",
    "screen = turtle.Screen()\n",
    "screen.bgcolor(\"lightgreen\") # You can set a background color!\n",
    "\n",
    "# Step 3: Create your turtle\n",
    "# Let's name our turtle 'alex' (you can choose any name)\n",
    "alex = turtle.Turtle()\n",
    "alex.shape(\"turtle\")     # Options: \"arrow\", \"turtle\", \"circle\", \"square\", \"triangle\", \"classic\"\n",
    "alex.color(\"blue\")       # Set the turtle's color (and its pen color)\n",
    "\n",
    "# Step 4: First Moves!\n",
    "alex.forward(100)        # Moves alex forward 100 units\n",
    "alex.left(90)            # Turns alex left by 90 degrees\n",
    "alex.forward(50)\n",
    "\n",
    "# Step 5: Keep the window open until you click on it\n",
    "# This should be the LAST line of your turtle program\n",
    "turtle.done()\n",
    "# OR you can use: screen.mainloop()"
   ]
  },
  {
   "cell_type": "markdown",
   "metadata": {},
   "source": [
    "## Part 2: Drawing a Square - Using Variables (Approx. 20 mins)\n",
    "\n",
    "Repeating commands is common in drawing. Let's draw a square. A square has 4 equal sides and 4 equal angles (90 degrees).\n",
    "\n",
    "We can use **variables** to store values that we might reuse or want to change easily.\n",
    "*   A variable is like a named box that holds a value.\n",
    "*   Example: `side_length = 100` or `turn_angle = 90`"
   ]
  },
  {
   "cell_type": "markdown",
   "metadata": {},
   "source": [
    "## Part 2: Robot Game Tournament! (Approx. 45 mins)\n",
    "\n",
    "You've designed and programmed your paper robots. Now it's time to see them in action!\n",
    "\n",
    "**The Challenge:**\n",
    "*   Give copies of your robot's instruction set (your \"program\") to other teams.\n",
    "*   Receive instruction sets from other teams for their robots.\n",
    "*   Follow their instructions precisely for their robot on the game board.\n",
    "*   Try to \"run\" other teams' robots and see if you can defeat it.\n",
    "\n",
    "**Let the Games Begin!**\n",
    "*   Share your robot programs.\n",
    "*   Execute other teams' programs.\n",
    "*   Discuss what worked, what didn't, and why.\n",
    "*   Have fun!"
   ]
  },
  {
   "cell_type": "markdown",
   "metadata": {},
   "source": [
    "## Day 0 Wrap-up\n",
    "\n",
    "Wow, what a packed day! We've:\n",
    "*   Set up our coding environments.\n",
    "*   Dipped our toes into AI, saw cool examples, and even tried ChatGPT.\n",
    "*   Talked about what programming is and why it's a powerful skill.\n",
    "*   Written our very first Python code.\n",
    "*   Brought drawings to life with Python Turtle.\n",
    "*   Designed and battled with our robots!\n",
    "\n",
    "**Tomorrow, we'll dive deeper into Python programming!**"
   ]
  }
 ],
 "metadata": {
  "kernelspec": {
   "display_name": "week_one",
   "language": "python",
   "name": "python3"
  },
  "language_info": {
   "codemirror_mode": {
    "name": "ipython",
    "version": 3
   },
   "file_extension": ".py",
   "mimetype": "text/x-python",
   "name": "python",
   "nbconvert_exporter": "python",
   "pygments_lexer": "ipython3",
   "version": "3.13.3"
  }
 },
 "nbformat": 4,
 "nbformat_minor": 2
}
