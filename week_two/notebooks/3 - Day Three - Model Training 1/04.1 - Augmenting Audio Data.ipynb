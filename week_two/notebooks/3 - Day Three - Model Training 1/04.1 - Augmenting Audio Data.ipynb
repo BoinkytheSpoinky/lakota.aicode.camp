{
 "cells": [
  {
   "cell_type": "markdown",
   "id": "89350937",
   "metadata": {},
   "source": [
    "## How do we make our *limited* audio data more diverse?"
   ]
  },
  {
   "cell_type": "code",
   "execution_count": null,
   "id": "165ae134",
   "metadata": {},
   "outputs": [],
   "source": [
    "import os\n",
    "import librosa\n",
    "import soundfile as sf\n",
    "from audiomentations import Compose, AddGaussianNoise, TimeStretch, PitchShift, Shift\n",
    "from pathlib import Path\n",
    "import random"
   ]
  },
  {
   "cell_type": "markdown",
   "id": "f293c031",
   "metadata": {},
   "source": [
    "### Configuration of Augmentations"
   ]
  },
  {
   "cell_type": "code",
   "execution_count": null,
   "id": "e212f749",
   "metadata": {},
   "outputs": [],
   "source": [
    "\n",
    "# Directory where your original voice recordings (e.g., \"yes.wav\", \"no.wav\") are stored\n",
    "INPUT_DIR = \"/workspace/data/raw_audio\"\n",
    "\n",
    "# Directory where the augmented audio files will be saved\n",
    "OUTPUT_DIR = \"/workspace/data/augmented_audio\"\n",
    "\n",
    "# All audio files will be resampled to this rate for consistency\n",
    "SAMPLE_RATE = 16000\n",
    "\n",
    "# Number of augmented copies to generate *per original file*\n",
    "NUM_AUGMENTATIONS = 3\n",
    "\n",
    "# Parameters for each type of augmentation — adjust to control strength and variability\n",
    "AUGMENTATION_PARAMS = {\n",
    "    # Add Gaussian noise in this amplitude range\n",
    "    \"noise_amplitude\": (0.001, 0.015),\n",
    "\n",
    "    # Stretch/compress audio within this range without affecting pitch\n",
    "    \"time_stretch_rate\": (0.9, 1.1),\n",
    "\n",
    "    # Shift pitch up or down by up to these semitones (positive = higher, negative = lower)\n",
    "    \"pitch_shift_semitones\": (-2, 2),\n",
    "\n",
    "    # Shift waveform in time, as a fraction of total length (e.g., 0.1 = 10%)\n",
    "    \"shift_fraction\": (-0.2, 0.2)\n",
    "}\n",
    "\n",
    "# Fixed seed makes augmentation reproducible — change to get new random variations\n",
    "RANDOM_SEED = 42"
   ]
  },
  {
   "cell_type": "markdown",
   "id": "a28d90b8",
   "metadata": {},
   "source": [
    "### Setup Augmentation Pipeline"
   ]
  },
  {
   "cell_type": "code",
   "execution_count": null,
   "id": "8d192c0a",
   "metadata": {},
   "outputs": [],
   "source": [
    "# Ensure consistent random behavior\n",
    "random.seed(RANDOM_SEED)\n",
    "\n",
    "# Create an augmenter composed of multiple audio transformations\n",
    "augmenter = Compose([\n",
    "    AddGaussianNoise(min_amplitude=AUGMENTATION_PARAMS[\"noise_amplitude\"][0],\n",
    "                     max_amplitude=AUGMENTATION_PARAMS[\"noise_amplitude\"][1], p=0.5),\n",
    "\n",
    "    TimeStretch(min_rate=AUGMENTATION_PARAMS[\"time_stretch_rate\"][0],\n",
    "                max_rate=AUGMENTATION_PARAMS[\"time_stretch_rate\"][1], p=0.5),\n",
    "\n",
    "    PitchShift(min_semitones=AUGMENTATION_PARAMS[\"pitch_shift_semitones\"][0],\n",
    "               max_semitones=AUGMENTATION_PARAMS[\"pitch_shift_semitones\"][1], p=0.5),\n",
    "\n",
    "    Shift(min_shift=AUGMENTATION_PARAMS[\"shift_fraction\"][0],\n",
    "          max_shift=AUGMENTATION_PARAMS[\"shift_fraction\"][1],\n",
    "          shift_unit=\"fraction\", p=0.5)\n",
    "])\n"
   ]
  },
  {
   "cell_type": "markdown",
   "id": "450d9706",
   "metadata": {},
   "source": [
    "### Process and Augment a Single File"
   ]
  },
  {
   "cell_type": "code",
   "execution_count": null,
   "id": "c2a97123",
   "metadata": {},
   "outputs": [],
   "source": [
    "def augment_and_save(file_path, sample_rate, input_root, output_root):\n",
    "    relative_path = file_path.relative_to(input_root)       # e.g., red/yes.wav\n",
    "    class_subdir = relative_path.parent                     # e.g., red\n",
    "    basename = relative_path.stem                           # e.g., yes\n",
    "\n",
    "    y, sr = librosa.load(file_path, sr=sample_rate)\n",
    "\n",
    "    for i in range(NUM_AUGMENTATIONS):\n",
    "        augmented = augmenter(samples=y, sample_rate=sample_rate)\n",
    "\n",
    "        # Create full output directory path, preserving class subfolder\n",
    "        output_subdir = output_root / class_subdir\n",
    "        output_subdir.mkdir(parents=True, exist_ok=True)\n",
    "\n",
    "        # Save augmented file\n",
    "        output_path = output_subdir / f\"{basename}_aug{i+1}.wav\"\n",
    "        sf.write(output_path, augmented, sample_rate)\n",
    "        print(f\"Saved: {output_path}\")"
   ]
  },
  {
   "cell_type": "markdown",
   "id": "4a7c7059",
   "metadata": {},
   "source": [
    "### Apply Augmentation to All Files In *Input* Folder"
   ]
  },
  {
   "cell_type": "code",
   "execution_count": null,
   "id": "c3b4c809",
   "metadata": {},
   "outputs": [],
   "source": [
    "input_root = Path(INPUT_DIR)\n",
    "output_root = Path(OUTPUT_DIR)\n",
    "\n",
    "input_files = list(input_root.rglob(\"*.wav\"))\n",
    "print(f\"Found {len(input_files)} audio files in {INPUT_DIR}\")\n",
    "\n",
    "for file_path in input_files:\n",
    "    augment_and_save(file_path, SAMPLE_RATE, input_root, output_root)\n",
    "\n",
    "print(f\"\\n✅ Done. Augmented files saved to: {OUTPUT_DIR}\")"
   ]
  },
  {
   "cell_type": "markdown",
   "id": "a03e30c3",
   "metadata": {},
   "source": [
    "**You may now listen to the augmented audio files in the GitHub directory `\\path_to_GitHub\\lakota.aicode.camp\\week_two\\data\\augmented_audio\\`**"
   ]
  }
 ],
 "metadata": {
  "kernelspec": {
   "display_name": "Python 3 (ipykernel)",
   "language": "python",
   "name": "python3"
  },
  "language_info": {
   "codemirror_mode": {
    "name": "ipython",
    "version": 3
   },
   "file_extension": ".py",
   "mimetype": "text/x-python",
   "name": "python",
   "nbconvert_exporter": "python",
   "pygments_lexer": "ipython3",
   "version": "3.10.12"
  }
 },
 "nbformat": 4,
 "nbformat_minor": 5
}
