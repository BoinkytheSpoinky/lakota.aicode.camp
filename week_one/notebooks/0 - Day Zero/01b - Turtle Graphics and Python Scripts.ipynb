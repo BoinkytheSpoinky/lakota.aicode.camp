{
 "cells": [
  {
   "cell_type": "markdown",
   "metadata": {},
   "source": "# Understanding Python Scripts with Turtle Graphics\\n\\nIn this lesson, you'll learn about Python scripts and how they differ from Jupyter notebooks. We'll use turtle graphics as an example, but **we will NOT run turtle graphics in this notebook** (it causes errors).\\n\\nInstead, you'll learn how to run the `turtle_introduction.py` script externally using proper tools.\\n\\n**Learning Objectives**:\\n- Understand the difference between notebooks and Python scripts\\n- Learn when to use scripts vs notebooks\\n- Practice running Python scripts from command line/terminal\\n- Understand turtle graphics concepts without running them in Jupyter\\n- Experience how real-world Python programs work\\n\\n**⚠️ Important**: Turtle graphics don't work well in Jupyter notebooks and will cause errors. We'll run our turtle script using external tools instead!\\n\\n* * * * *\"",
   "outputs": []
  },
  {
   "cell_type": "markdown",
   "metadata": {},
   "source": "## Why Scripts Instead of Notebooks for Turtle?\\n\\n### The Problem with Turtle in Jupyter\\n🐛 **Turtle graphics have bugs in Jupyter notebooks:**\\n- Multiple graphics windows cause conflicts\\n- Notebook interface interferes with turtle graphics\\n- Scripts crash when trying to open multiple turtle screens\\n- Interactive graphics don't work properly in browser environments\\n\\n### The Solution: Python Scripts\\n✅ **Python scripts work perfectly for turtle graphics:**\\n- Native graphics support without conflicts\\n- Full control over windows and displays  \\n- Proper animation and interaction\\n- This is how real Python programs work!\\n\\n### What You'll Learn\\nBy using turtle graphics in a script, you'll learn:\\n- How to run complete Python programs\\n- The difference between notebooks and scripts\\n- When to use each approach\\n- Real-world Python development practices\"",
   "outputs": []
  },
  {
   "cell_type": "markdown",
   "metadata": {},
   "source": [
    "## What is Turtle Graphics?\n",
    "\n",
    "Turtle graphics is a popular way to introduce programming concepts. Imagine you have a turtle with a pen attached to its tail:\n",
    "\n",
    "🐢 **The turtle can:**\n",
    "- Move forward and backward\n",
    "- Turn left and right\n",
    "- Put its pen down to draw\n",
    "- Lift its pen up to move without drawing\n",
    "- Change colors\n",
    "\n",
    "**You give the turtle very specific instructions:**\n",
    "- \"Move forward 100 steps\"\n",
    "- \"Turn left 90 degrees\"\n",
    "- \"Change your pen color to red\"\n",
    "\n",
    "This teaches you to break down complex drawings into simple, step-by-step instructions - which is exactly what programming is all about!"
   ]
  },
  {
   "cell_type": "markdown",
   "metadata": {},
   "source": "### Method 1: From Command Line/Terminal (RECOMMENDED)\\nThis is the best way to run turtle graphics:\\n\\n**On Windows:**\\n1. Open Command Prompt or PowerShell\\n2. Navigate to this folder using `cd` command\\n3. Run: `python turtle_introduction.py`\\n\\n**On Mac/Linux:**\\n1. Open Terminal\\n2. Navigate to this folder using `cd` command  \\n3. Run: `python3 turtle_introduction.py`\\n\\n### Method 2: From VS Code or Code Editor\\n1. Open VS Code (or your preferred editor)\\n2. Open the `turtle_introduction.py` file\\n3. Click the \\\"Run\\\" button (▶️) or press F5\\n4. Watch the graphics windows appear!\\n\\n### Method 3: Double-click the File\\nOn some systems, you can simply double-click the `turtle_introduction.py` file to run it.\\n\\n**⚠️ IMPORTANT: Do NOT try to run turtle graphics from this Jupyter notebook - it will cause errors!**\"",
   "outputs": []
  },
  {
   "cell_type": "markdown",
   "metadata": {},
   "source": "# DO NOT RUN TURTLE IN THIS NOTEBOOK!\\n# Instead, we'll learn how to run the script externally\\n\\nprint(\\\"🚫 We will NOT run turtle graphics in this notebook!\\\")\\nprint(\\\"✅ Instead, we'll run the turtle_introduction.py script externally\\\")\\nprint(\\\"\\\\n📍 The turtle_introduction.py file is in this same folder\\\")\\nprint(\\\"📍 You'll run it using one of the methods described below\\\")\"",
   "outputs": []
  },
  {
   "cell_type": "code",
   "metadata": {},
   "source": "# Let's just check if the turtle script file exists\\nimport os\\n\\nscript_name = \\\"turtle_introduction.py\\\"\\nif os.path.exists(script_name):\\n    print(f\\\"✅ Found {script_name} in this folder!\\\")\\n    print(f\\\"📁 File size: {os.path.getsize(script_name)} bytes\\\")\\n    print(\\\"\\\\n🎯 TO RUN THE SCRIPT:\\\")\\n    print(\\\"1. Open a terminal/command prompt\\\")\\n    print(\\\"2. Navigate to this folder\\\")\\n    print(\\\"3. Run: python turtle_introduction.py\\\")\\n    print(\\\"\\\\n🎨 You'll see 6 different turtle graphics examples!\\\")\\nelse:\\n    print(f\\\"❌ Could not find {script_name}\\\")\\n    print(\\\"Make sure the file is in the same folder as this notebook.\\\")\\n\\nprint(\\\"\\\\n🚫 Remember: We do NOT run turtle graphics in Jupyter notebooks!\\\")\"",
   "outputs": []
  },
  {
   "cell_type": "markdown",
   "metadata": {},
   "source": [
    "### Method 2: From Command Line/Terminal\n",
    "If you have a terminal or command prompt open:\n",
    "\n",
    "1. Navigate to the folder containing `turtle_introduction.py`\n",
    "2. Run this command:\n",
    "```bash\n",
    "python turtle_introduction.py\n",
    "```\n",
    "\n",
    "### Method 3: From a Code Editor\n",
    "If you have VS Code, PyCharm, or another code editor:\n",
    "1. Open the `turtle_introduction.py` file\n",
    "2. Click the \"Run\" button or press F5\n",
    "3. Watch the graphics windows appear!"
   ]
  },
  {
   "cell_type": "markdown",
   "metadata": {},
   "source": [
    "## Alternative: Try Running the Script"
   ]
  },
  {
   "cell_type": "code",
   "execution_count": null,
   "metadata": {},
   "source": [
    "# Alternative method to run the script\n",
    "import subprocess\n",
    "import sys\n",
    "import os\n",
    "\n",
    "script_path = \"turtle_introduction.py\"\n",
    "\n",
    "if os.path.exists(script_path):\n",
    "    print(f\"Found {script_path}!\")\n",
    "    print(\"Attempting to run the script...\")\n",
    "    print(\"Note: Graphics windows may appear outside of this notebook.\\n\")\n",
    "    \n",
    "    try:\n",
    "        # Try to run the script\n",
    "        result = subprocess.run([sys.executable, script_path], \n",
    "                               capture_output=True, text=True, \n",
    "                               cwd='.', timeout=60)\n",
    "        \n",
    "        if result.returncode == 0:\n",
    "            print(\"✅ Script completed successfully!\")\n",
    "            if result.stdout:\n",
    "                print(\"Script output:\")\n",
    "                print(result.stdout)\n",
    "        else:\n",
    "            print(\"❌ Script encountered an error:\")\n",
    "            print(result.stderr)\n",
    "            \n",
    "    except subprocess.TimeoutExpired:\n",
    "        print(\"⏰ Script is running but taking longer than expected.\")\n",
    "        print(\"This is normal for interactive graphics programs.\")\n",
    "        print(\"Check for graphics windows outside this notebook!\")\n",
    "        \n",
    "    except Exception as e:\n",
    "        print(f\"❌ Could not run script: {e}\")\n",
    "        print(\"\\n💡 Alternative ways to run the script:\")\n",
    "        print(\"1. Open a terminal/command prompt\")\n",
    "        print(\"2. Navigate to this folder\")\n",
    "        print(\"3. Run: python turtle_introduction.py\")\n",
    "        \n",
    "else:\n",
    "    print(f\"❌ Could not find {script_path}\")\n",
    "    print(\"Make sure the file is in the same folder as this notebook.\")"
   ]
  },
  {
   "cell_type": "markdown",
   "metadata": {},
   "source": [
    "## Understanding the Script Code\n",
    "\n",
    "Let's look at some key concepts from our turtle script:\n",
    "\n",
    "### Import Statements\n",
    "Scripts start by importing the libraries they need:"
   ]
  },
  {
   "cell_type": "code",
   "execution_count": null,
   "metadata": {},
   "source": [
    "# This is how we import turtle in a script:\n",
    "# import turtle\n",
    "# \n",
    "# This gives us access to turtle graphics functions\n",
    "\n",
    "print(\"Import statements load external libraries\")\n",
    "print(\"Think of them as borrowing tools from other programmers!\")"
   ]
  },
  {
   "cell_type": "markdown",
   "metadata": {},
   "source": [
    "### Basic Turtle Commands\n",
    "Here are the essential turtle commands you'll see in the script:\n",
    "\n",
    "| Command | What it does |\n",
    "|---------|-------------|\n",
    "| `turtle.forward(distance)` | Move forward by distance |\n",
    "| `turtle.backward(distance)` | Move backward by distance |\n",
    "| `turtle.left(angle)` | Turn left by angle degrees |\n",
    "| `turtle.right(angle)` | Turn right by angle degrees |\n",
    "| `turtle.penup()` | Lift pen (move without drawing) |\n",
    "| `turtle.pendown()` | Put pen down (start drawing) |\n",
    "| `turtle.color(\"color_name\")` | Change pen color |\n",
    "| `turtle.speed(number)` | Set drawing speed (1=slow, 10=fast) |"
   ]
  },
  {
   "cell_type": "markdown",
   "metadata": {},
   "source": [
    "### Example: Drawing a Square\n",
    "Here's what the square-drawing code looks like in our script:"
   ]
  },
  {
   "cell_type": "code",
   "execution_count": null,
   "metadata": {},
   "source": [
    "# This is pseudocode showing how we draw a square in the script:\n",
    "# (This won't actually run turtle graphics in the notebook)\n",
    "\nprint(\"To draw a square, we need 4 sides and 4 right-angle turns:\")\nprint(\"1. turtle.forward(100)  # Side 1\")\nprint(\"2. turtle.left(90)      # Turn corner\")\nprint(\"3. turtle.forward(100)  # Side 2\")\nprint(\"4. turtle.left(90)      # Turn corner\")\nprint(\"5. turtle.forward(100)  # Side 3\")\nprint(\"6. turtle.left(90)      # Turn corner\")\nprint(\"7. turtle.forward(100)  # Side 4\")\nprint(\"8. turtle.left(90)      # Turn corner (back to start)\")\n\nprint(\"\\nNotice the pattern: forward, turn, forward, turn...\")\nprint(\"This is exactly how you'd explain it to a friend!\")"
   ]
  },
  {
   "cell_type": "markdown",
   "metadata": {},
   "source": [
    "### Functions in Scripts\n",
    "Scripts organize code into functions - reusable blocks of code:"
   ]
  },
  {
   "cell_type": "code",
   "execution_count": null,
   "metadata": {},
   "source": [
    "# Example of how functions work in our script:\n",
    "\ndef example_function():\n",
    "    \"\"\"This is a function - a named block of code\"\"\"\n",
    "    print(\"This code is inside a function!\")\n",
    "    print(\"Functions help organize our code.\")\n",
    "\n# Call the function to run its code\nexample_function()\n\nprint(\"\\nIn our turtle script, each drawing example is its own function.\")\nprint(\"This makes the code organized and easy to understand.\")"
   ]
  },
  {
   "cell_type": "markdown",
   "metadata": {},
   "source": [
    "## Scripts vs Notebooks: When to Use Each\n",
    "\n",
    "Now that you've seen both notebooks and scripts, here's when to use each:\n",
    "\n",
    "### Use Jupyter Notebooks When:\n",
    "- 📚 **Learning new concepts** - Great for experimenting\n",
    "- 🔬 **Data analysis** - Exploring data step by step\n",
    "- 📝 **Documentation** - Mixing code with explanations\n",
    "- 🧪 **Prototyping** - Testing small pieces of code\n",
    "- 📊 **Research** - Working with data and creating visualizations\n",
    "\n",
    "### Use Python Scripts When:\n",
    "- 🎮 **Complete programs** - Building full applications\n",
    "- 🖼️ **Graphics and games** - Programs that control windows\n",
    "- 🛠️ **Tools and utilities** - Programs others will use\n",
    "- 🏭 **Production code** - Code that runs automatically\n",
    "- 📱 **Apps and websites** - Building user-facing applications"
   ]
  },
  {
   "cell_type": "markdown",
   "metadata": {},
   "source": [
    "## Programming Concepts from Turtle Graphics\n",
    "\n",
    "Working with turtle graphics teaches important programming concepts:\n",
    "\n",
    "### 1. Precise Instructions\n",
    "Computers need very specific instructions. You can't tell a turtle \"draw a square\" - you have to break it down into exact steps:\n",
    "- Move forward exactly 100 units\n",
    "- Turn left exactly 90 degrees\n",
    "- Repeat 4 times\n",
    "\n",
    "### 2. Sequential Execution\n",
    "Scripts run from top to bottom, one instruction at a time. The order matters!\n",
    "\n",
    "### 3. Variables for Flexibility\n",
    "Using variables makes your code adaptable:"
   ]
  },
  {
   "cell_type": "code",
   "execution_count": null,
   "metadata": {},
   "source": [
    "# Example: Using variables for flexibility\n",
    "\n",
    "# Instead of hardcoding numbers:\nprint(\"Hardcoded version:\")\nprint(\"turtle.forward(100)\")\nprint(\"turtle.left(90)\")\nprint(\"# If we want to change the size, we have to change every number!\")\n\nprint(\"\\nVariable version:\")\nside_length = 150\nturn_angle = 90\n\nprint(f\"side_length = {side_length}\")\nprint(f\"turn_angle = {turn_angle}\")\nprint(\"turtle.forward(side_length)\")\nprint(\"turtle.left(turn_angle)\")\nprint(\"# Now we can change the size by changing just one variable!\")"
   ]
  },
  {
   "cell_type": "markdown",
   "metadata": {},
   "source": [
    "### 4. Problem Decomposition\n",
    "Breaking big problems into smaller pieces:"
   ]
  },
  {
   "cell_type": "code",
   "execution_count": null,
   "metadata": {},
   "source": [
    "# Example: Breaking down a complex drawing\n",
    "\nprint(\"Big problem: Draw a house\")\nprint(\"\\nBreak it down into smaller problems:\")\nprint(\"1. Draw a square (for the base)\")\nprint(\"2. Draw a triangle (for the roof)\")\nprint(\"3. Draw a rectangle (for the door)\")\nprint(\"4. Use penup/pendown to move between shapes\")\n\nprint(\"\\nEach small problem becomes a function in our script!\")\nprint(\"This is how programmers tackle complex projects.\")"
   ]
  },
  {
   "cell_type": "markdown",
   "metadata": {},
   "source": [
    "## Exercise: Explore the Script\n",
    "\n",
    "Now it's your turn to explore and modify the turtle script!\n",
    "\n",
    "### Exercise 1: Run and Observe\n",
    "1. Run the `turtle_introduction.py` script using one of the methods above\n",
    "2. Watch each example carefully\n",
    "3. Notice how the turtle follows exact instructions\n",
    "4. Observe the different colors, shapes, and movements\n",
    "\n",
    "### Exercise 2: Read the Code\n",
    "1. Open `turtle_introduction.py` in a text editor or VS Code\n",
    "2. Read through the comments and code\n",
    "3. Find the function that draws a square\n",
    "4. Find where colors are changed\n",
    "\n",
    "### Exercise 3: Make Small Changes\n",
    "Try modifying the script (make a copy first!):\n",
    "- Change the `side_length` variable to make shapes bigger or smaller\n",
    "- Change color names to your favorite colors\n",
    "- Modify the drawing speed\n",
    "- Try changing the number of sides in shapes"
   ]
  },
  {
   "cell_type": "code",
   "execution_count": null,
   "metadata": {},
   "source": [
    "# Use this cell to plan your modifications\n",
    "\nprint(\"My ideas for modifying the turtle script:\")\nprint(\"1. Change colors to: [write your favorite colors here]\")\nprint(\"2. Make shapes [bigger/smaller] by changing side_length to: [number]\")\nprint(\"3. Try drawing a [shape] by changing the angles\")\nprint(\"4. Add a new function that draws: [your idea]\")\n\n# Write your modification plans here:\nmy_changes = \"I want to...\"\nprint(f\"\\nMy plan: {my_changes}\")"
   ]
  },
  {
   "cell_type": "markdown",
   "metadata": {},
   "source": [
    "## Troubleshooting Script Issues\n",
    "\n",
    "If you're having trouble running the script, here are common solutions:\n",
    "\n",
    "### Problem: \"python: command not found\"\n",
    "**Solution**: \n",
    "- Make sure Python is installed on your computer\n",
    "- Try using `python3` instead of `python`\n",
    "- Check if Python is in your system PATH\n",
    "\n",
    "### Problem: \"No such file or directory\"\n",
    "**Solution**:\n",
    "- Make sure you're in the correct folder\n",
    "- Check that `turtle_introduction.py` exists in the same folder\n",
    "- Use `ls` (Mac/Linux) or `dir` (Windows) to see files in current folder\n",
    "\n",
    "### Problem: Script runs but closes immediately\n",
    "**Solution**:\n",
    "- This is normal for our script - it shows graphics windows\n",
    "- Look for popup windows outside of your browser\n",
    "- Click on the graphics windows to continue through examples\n",
    "\n",
    "### Problem: Graphics don't appear\n",
    "**Solution**:\n",
    "- Check if windows are hidden behind other applications\n",
    "- Try running from a terminal instead of from Jupyter\n",
    "- Make sure your system supports graphics (some remote servers don't)"
   ]
  },
  {
   "cell_type": "markdown",
   "metadata": {},
   "source": [
    "## Next Steps: Creating Your Own Scripts\n",
    "\n",
    "After exploring turtle graphics, you might want to create your own Python scripts!\n",
    "\n",
    "### Ideas for Your Own Scripts:\n",
    "- **Calculator**: A script that does math calculations\n",
    "- **Mad Libs**: A script that creates silly stories\n",
    "- **Simple Game**: Rock, paper, scissors or guessing games\n",
    "- **Art Generator**: More complex turtle graphics\n",
    "- **File Organizer**: A script that organizes files on your computer\n",
    "\n",
    "### Script Template:\n",
    "Here's a basic template for creating your own scripts:"
   ]
  },
  {
   "cell_type": "code",
   "execution_count": null,
   "metadata": {},
   "source": [
    "# Template for creating your own Python script\n",
    "# Copy this to a new .py file to get started!\n",
    "\nscript_template = '''\n#!/usr/bin/env python3\n\"\"\"\nMy First Python Script\nDescription: [What does your script do?]\nAuthor: [Your name]\nDate: [Today's date]\n\"\"\"\n\n# Import any libraries you need\n# import turtle\n# import random\n# import math\n\ndef my_main_function():\n    \"\"\"The main logic of your script goes here\"\"\"\n    print(\"Hello from my script!\")\n    # Add your code here\n\ndef helper_function():\n    \"\"\"Additional functions if needed\"\"\"\n    pass\n\nif __name__ == \"__main__\":\n    print(\"Starting my script...\")\n    my_main_function()\n    print(\"Script finished!\")\n'''\n\nprint(\"Here's a template for creating your own Python scripts:\")\nprint(script_template)"
   ]
  },
  {
   "cell_type": "markdown",
   "metadata": {},
   "source": [
    "## Key Takeaways\n",
    "\n",
    "🐢 **Turtle graphics make programming visual and fun**\n",
    "\n",
    "📄 **Scripts run complete programs from start to finish**\n",
    "\n",
    "📓 **Notebooks are great for learning, scripts are great for building**\n",
    "\n",
    "🎯 **Programming requires precise, step-by-step instructions**\n",
    "\n",
    "🔧 **Functions help organize code into logical pieces**\n",
    "\n",
    "📐 **Variables make code flexible and reusable**\n",
    "\n",
    "🧩 **Complex problems can be broken into smaller, manageable pieces**\n",
    "\n",
    "🎨 **Visual programming helps you see the results of your code immediately**\n",
    "\n",
    "---\n",
    "\n",
    "Excellent work! You've now experienced both Jupyter notebooks and Python scripts, and you've seen how programming can create visual art through turtle graphics. These fundamental concepts - precise instructions, variables, functions, and problem decomposition - are the building blocks of all programming, from simple scripts to complex AI systems! 🚀"
   ]
  }
 ],
 "metadata": {
  "kernelspec": {
   "display_name": "Python 3",
   "language": "python",
   "name": "python3"
  },
  "language_info": {
   "codemirror_mode": {
    "name": "ipython",
    "version": 3
   },
   "file_extension": ".py",
   "mimetype": "text/x-python",
   "name": "python",
   "nbconvert_exporter": "python",
   "pygments_lexer": "ipython3",
   "version": "3.8.5"
  }
 },
 "nbformat": 4,
 "nbformat_minor": 4
}