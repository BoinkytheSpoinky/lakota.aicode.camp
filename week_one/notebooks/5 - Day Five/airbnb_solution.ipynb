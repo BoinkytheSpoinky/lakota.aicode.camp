{
 "cells": [
  {
   "cell_type": "code",
   "execution_count": 91,
   "metadata": {},
   "outputs": [],
   "source": [
    "import geopandas as gpd\n",
    "from shapely.geometry import Point, Polygon\n",
    "import pandas as pd\n",
    "from matplotlib import pyplot as plt\n",
    "from sklearn.ensemble import RandomForestRegressor, RandomForestClassifier\n",
    "from sklearn.metrics import r2_score, mean_absolute_error, mean_squared_error, accuracy_score\n",
    "\n",
    "pd.set_option('display.max_columns', 100)"
   ]
  },
  {
   "cell_type": "code",
   "execution_count": 78,
   "metadata": {},
   "outputs": [],
   "source": [
    "# Get all of the data\n",
    "listings = pd.read_csv(\"listings.csv\")\n",
    "neighbourhoods = gpd.read_file(\"neighbourhoods.geojson\", driver=\"GeonJSON\")\n",
    "reviews = pd.concat([pd.read_csv(\"reviews_1.csv\"), pd.read_csv(\"reviews_2.csv\")])"
   ]
  },
  {
   "cell_type": "code",
   "execution_count": 79,
   "metadata": {},
   "outputs": [],
   "source": [
    "# Let's look at the listings dataset. Always start by examining the data itself. In this case, it's the csv, or comma-separated-values file."
   ]
  },
  {
   "cell_type": "code",
   "execution_count": null,
   "metadata": {},
   "outputs": [],
   "source": [
    "# The `price` column seems very important. Can we use it as it is?\n",
    "listings[\"prices_fixed\"] = listings[\"price\"].str.replace(\",\", \"\").str[1:].astype(float)\n",
    "listings[\"prices_fixed\"]\n",
    "\n",
    "listings = listings.fillna(0)"
   ]
  },
  {
   "cell_type": "code",
   "execution_count": null,
   "metadata": {},
   "outputs": [],
   "source": [
    "# This data is geographical! Let's put it on a map.\n",
    "listings[\"geometry\"] = [Point(long, lat) for long, lat in zip(listings[\"longitude\"], listings[\"latitude\"])]\n",
    "gpd_listings = gpd.GeoDataFrame(listings)\n",
    "\n",
    "fix, ax = plt.subplots(figsize=(10, 10))\n",
    "neighbourhoods.plot(ax=ax)\n",
    "gpd_listings.plot(ax=ax, column=\"price\", cmap=\"plasma\", alpha=0.5)"
   ]
  },
  {
   "cell_type": "code",
   "execution_count": null,
   "metadata": {},
   "outputs": [],
   "source": [
    "fig, ax = plt.subplots(figsize=(10, 10))\n",
    "grouped_listings = listings.groupby(\"neighbourhood_cleansed\").mean()['prices_fixed'].reset_index().rename({\"neighbourhood_cleansed\": \"neighbourhood\"}, axis=1)\n",
    "merged_df = pd.merge(neighbourhoods, grouped_listings, on=\"neighbourhood\")\n",
    "merged_df.plot(column=\"prices_fixed\", cmap=\"plasma\", legend=True, ax=ax)"
   ]
  },
  {
   "cell_type": "code",
   "execution_count": 87,
   "metadata": {},
   "outputs": [],
   "source": [
    "# Let's take a deeper look by making some plots\n",
    "\n",
    "# groupby options: beds, neighbourhood, room_type, neighbourhood_cleansed, property_type, room_type\n",
    "# y-value options: prices_fixed, min/maximum nights, accommodates\n",
    "\n",
    "groupby_variable = \"beds\"\n",
    "y_value = \"prices_fixed\"\n",
    "\n",
    "fig, axs = plt.subplots(2, 1, figsize=(12, 6))\n",
    "listings.groupby(groupby_variable)[y_value].mean().plot(kind=\"bar\", ax=axs[0], title=f\"Average {y_value}\")\n",
    "listings.groupby(groupby_variable)[y_value].count().plot(kind=\"bar\", ax=axs[1], title=\"Count of Listings\")\n",
    "fig.tight_layout()"
   ]
  },
  {
   "cell_type": "code",
   "execution_count": null,
   "metadata": {},
   "outputs": [],
   "source": [
    "# Let's take a deeper look by making some scatter\n",
    "\n",
    "# groupby options: beds, neighbourhood, room_type, neighbourhood_cleansed, property_type, room_type\n",
    "# y-value options: prices_fixed, min/maximum nights, accommodates\n",
    "\n",
    "x_value = \"beds\"\n",
    "y_value = \"prices_fixed\"\n",
    "\n",
    "listings.plot(x=x_value, y=y_value, kind=\"scatter\", alpha=0.2)"
   ]
  },
  {
   "cell_type": "code",
   "execution_count": null,
   "metadata": {},
   "outputs": [],
   "source": [
    "# Correlations are often really insightful\n",
    "listings.corr().to_csv(\"listing_correlations.csv\")"
   ]
  },
  {
   "cell_type": "code",
   "execution_count": null,
   "metadata": {},
   "outputs": [],
   "source": [
    "# Introduction to Feature Engineering\n",
    "neighbourhood_dummies = pd.get_dummies(listings[\"neighbourhood_cleansed\"], prefix=\"NBH_dummy\")\n",
    "listings = pd.concat([listings, neighbourhood_dummies], axis=1)"
   ]
  },
  {
   "cell_type": "code",
   "execution_count": 114,
   "metadata": {},
   "outputs": [
    {
     "name": "stdout",
     "output_type": "stream",
     "text": [
      "mean_absolute_error:  109.5815736118012\n",
      "mean_squared_error 114887.8136838673\n",
      "R**2 0.5666037662741878\n"
     ]
    }
   ],
   "source": [
    "# Let's build a model!\n",
    "features = [\"beds\", \"accommodates\", \"availability_365\"]\n",
    "\n",
    "# neighbourhood_columns = neighbourhood_dummies.columns\n",
    "# features += list(neighbourhood_columns)\n",
    "\n",
    "target = \"prices_fixed\"\n",
    "model_type = \"regression\"\n",
    "# estimators = 100\n",
    "\n",
    "\n",
    "if model_type == \"regression\":\n",
    "    model = RandomForestRegressor()\n",
    "else:\n",
    "    model = RandomForestClassifier()\n",
    "\n",
    "shuffled_data = listings.sample(len(listings))\n",
    "train_data = shuffled_data[:int(len(shuffled_data)*0.8)]\n",
    "validation_data = shuffled_data[int(len(shuffled_data)*0.8):]\n",
    "\n",
    "model.fit(listings[features], listings[target])\n",
    "# model.fit(train_data[features], train_data[target])\n",
    "\n",
    "listings[f\"predicted_{target}\"] = model.predict(listings[features])\n",
    "# train_data[f\"predicted_{target}\"] = model.predict(train_data[features])\n",
    "# validation_data[f\"predicted_{target}\"] = model.predict(validation_data[features])\n",
    "\n",
    "# How do we measure our success?\n",
    "print(\"mean_absolute_error: \", mean_absolute_error(listings[target], listings[f\"predicted_{target}\"]))\n",
    "print(\"mean_squared_error\", mean_squared_error(listings[target], listings[f\"predicted_{target}\"]))\n",
    "print(\"R**2\", r2_score(listings[target], listings[f\"predicted_{target}\"]))\n",
    "\n",
    "\n",
    "# print(\"Training Data Statistics\")\n",
    "# print(\"mean_absolute_error: \", mean_absolute_error(train_data[target], train_data[f\"predicted_{target}\"]))\n",
    "# print(\"mean_squared_error\", mean_squared_error(train_data[target], train_data[f\"predicted_{target}\"]))\n",
    "# print(\"R**2\", r2_score(train_data[target], train_data[f\"predicted_{target}\"]))\n",
    "# print(\"\")\n",
    "\n",
    "# print(\"Validation Data Statistics\")\n",
    "# print(\"mean_absolute_error: \", mean_absolute_error(validation_data[target], validation_data[f\"predicted_{target}\"]))\n",
    "# print(\"mean_squared_error\", mean_squared_error(validation_data[target], validation_data[f\"predicted_{target}\"]))\n",
    "# print(\"R**2\", r2_score(validation_data[target], validation_data[f\"predicted_{target}\"]))\n",
    "\n",
    "print(\"\")\n",
    "for i in range(len(model.feature_importances_)):\n",
    "    print(f\"{features[i]}: {model.feature_importances_[i]}\")"
   ]
  },
  {
   "cell_type": "code",
   "execution_count": 118,
   "metadata": {},
   "outputs": [
    {
     "name": "stderr",
     "output_type": "stream",
     "text": [
      "C:\\Users\\mace_\\AppData\\Local\\Temp\\ipykernel_10140\\736759985.py:13: SettingWithCopyWarning: \n",
      "A value is trying to be set on a copy of a slice from a DataFrame.\n",
      "Try using .loc[row_indexer,col_indexer] = value instead\n",
      "\n",
      "See the caveats in the documentation: https://pandas.pydata.org/pandas-docs/stable/user_guide/indexing.html#returning-a-view-versus-a-copy\n",
      "  train_data.loc[:,f\"predicted_{target}\"] = model.predict(train_data[features])\n",
      "C:\\Users\\mace_\\AppData\\Local\\Temp\\ipykernel_10140\\736759985.py:14: SettingWithCopyWarning: \n",
      "A value is trying to be set on a copy of a slice from a DataFrame.\n",
      "Try using .loc[row_indexer,col_indexer] = value instead\n",
      "\n",
      "See the caveats in the documentation: https://pandas.pydata.org/pandas-docs/stable/user_guide/indexing.html#returning-a-view-versus-a-copy\n",
      "  validation_data.loc[: ,f\"predicted_{target}\"] = model.predict(validation_data[features])\n",
      "C:\\Users\\mace_\\AppData\\Local\\Temp\\ipykernel_10140\\736759985.py:13: SettingWithCopyWarning: \n",
      "A value is trying to be set on a copy of a slice from a DataFrame.\n",
      "Try using .loc[row_indexer,col_indexer] = value instead\n",
      "\n",
      "See the caveats in the documentation: https://pandas.pydata.org/pandas-docs/stable/user_guide/indexing.html#returning-a-view-versus-a-copy\n",
      "  train_data.loc[:,f\"predicted_{target}\"] = model.predict(train_data[features])\n",
      "C:\\Users\\mace_\\AppData\\Local\\Temp\\ipykernel_10140\\736759985.py:14: SettingWithCopyWarning: \n",
      "A value is trying to be set on a copy of a slice from a DataFrame.\n",
      "Try using .loc[row_indexer,col_indexer] = value instead\n",
      "\n",
      "See the caveats in the documentation: https://pandas.pydata.org/pandas-docs/stable/user_guide/indexing.html#returning-a-view-versus-a-copy\n",
      "  validation_data.loc[: ,f\"predicted_{target}\"] = model.predict(validation_data[features])\n",
      "C:\\Users\\mace_\\AppData\\Local\\Temp\\ipykernel_10140\\736759985.py:13: SettingWithCopyWarning: \n",
      "A value is trying to be set on a copy of a slice from a DataFrame.\n",
      "Try using .loc[row_indexer,col_indexer] = value instead\n",
      "\n",
      "See the caveats in the documentation: https://pandas.pydata.org/pandas-docs/stable/user_guide/indexing.html#returning-a-view-versus-a-copy\n",
      "  train_data.loc[:,f\"predicted_{target}\"] = model.predict(train_data[features])\n",
      "C:\\Users\\mace_\\AppData\\Local\\Temp\\ipykernel_10140\\736759985.py:14: SettingWithCopyWarning: \n",
      "A value is trying to be set on a copy of a slice from a DataFrame.\n",
      "Try using .loc[row_indexer,col_indexer] = value instead\n",
      "\n",
      "See the caveats in the documentation: https://pandas.pydata.org/pandas-docs/stable/user_guide/indexing.html#returning-a-view-versus-a-copy\n",
      "  validation_data.loc[: ,f\"predicted_{target}\"] = model.predict(validation_data[features])\n",
      "C:\\Users\\mace_\\AppData\\Local\\Temp\\ipykernel_10140\\736759985.py:13: SettingWithCopyWarning: \n",
      "A value is trying to be set on a copy of a slice from a DataFrame.\n",
      "Try using .loc[row_indexer,col_indexer] = value instead\n",
      "\n",
      "See the caveats in the documentation: https://pandas.pydata.org/pandas-docs/stable/user_guide/indexing.html#returning-a-view-versus-a-copy\n",
      "  train_data.loc[:,f\"predicted_{target}\"] = model.predict(train_data[features])\n",
      "C:\\Users\\mace_\\AppData\\Local\\Temp\\ipykernel_10140\\736759985.py:14: SettingWithCopyWarning: \n",
      "A value is trying to be set on a copy of a slice from a DataFrame.\n",
      "Try using .loc[row_indexer,col_indexer] = value instead\n",
      "\n",
      "See the caveats in the documentation: https://pandas.pydata.org/pandas-docs/stable/user_guide/indexing.html#returning-a-view-versus-a-copy\n",
      "  validation_data.loc[: ,f\"predicted_{target}\"] = model.predict(validation_data[features])\n",
      "C:\\Users\\mace_\\AppData\\Local\\Temp\\ipykernel_10140\\736759985.py:13: SettingWithCopyWarning: \n",
      "A value is trying to be set on a copy of a slice from a DataFrame.\n",
      "Try using .loc[row_indexer,col_indexer] = value instead\n",
      "\n",
      "See the caveats in the documentation: https://pandas.pydata.org/pandas-docs/stable/user_guide/indexing.html#returning-a-view-versus-a-copy\n",
      "  train_data.loc[:,f\"predicted_{target}\"] = model.predict(train_data[features])\n",
      "C:\\Users\\mace_\\AppData\\Local\\Temp\\ipykernel_10140\\736759985.py:14: SettingWithCopyWarning: \n",
      "A value is trying to be set on a copy of a slice from a DataFrame.\n",
      "Try using .loc[row_indexer,col_indexer] = value instead\n",
      "\n",
      "See the caveats in the documentation: https://pandas.pydata.org/pandas-docs/stable/user_guide/indexing.html#returning-a-view-versus-a-copy\n",
      "  validation_data.loc[: ,f\"predicted_{target}\"] = model.predict(validation_data[features])\n",
      "C:\\Users\\mace_\\AppData\\Local\\Temp\\ipykernel_10140\\736759985.py:13: SettingWithCopyWarning: \n",
      "A value is trying to be set on a copy of a slice from a DataFrame.\n",
      "Try using .loc[row_indexer,col_indexer] = value instead\n",
      "\n",
      "See the caveats in the documentation: https://pandas.pydata.org/pandas-docs/stable/user_guide/indexing.html#returning-a-view-versus-a-copy\n",
      "  train_data.loc[:,f\"predicted_{target}\"] = model.predict(train_data[features])\n",
      "C:\\Users\\mace_\\AppData\\Local\\Temp\\ipykernel_10140\\736759985.py:14: SettingWithCopyWarning: \n",
      "A value is trying to be set on a copy of a slice from a DataFrame.\n",
      "Try using .loc[row_indexer,col_indexer] = value instead\n",
      "\n",
      "See the caveats in the documentation: https://pandas.pydata.org/pandas-docs/stable/user_guide/indexing.html#returning-a-view-versus-a-copy\n",
      "  validation_data.loc[: ,f\"predicted_{target}\"] = model.predict(validation_data[features])\n",
      "C:\\Users\\mace_\\AppData\\Local\\Temp\\ipykernel_10140\\736759985.py:13: SettingWithCopyWarning: \n",
      "A value is trying to be set on a copy of a slice from a DataFrame.\n",
      "Try using .loc[row_indexer,col_indexer] = value instead\n",
      "\n",
      "See the caveats in the documentation: https://pandas.pydata.org/pandas-docs/stable/user_guide/indexing.html#returning-a-view-versus-a-copy\n",
      "  train_data.loc[:,f\"predicted_{target}\"] = model.predict(train_data[features])\n",
      "C:\\Users\\mace_\\AppData\\Local\\Temp\\ipykernel_10140\\736759985.py:14: SettingWithCopyWarning: \n",
      "A value is trying to be set on a copy of a slice from a DataFrame.\n",
      "Try using .loc[row_indexer,col_indexer] = value instead\n",
      "\n",
      "See the caveats in the documentation: https://pandas.pydata.org/pandas-docs/stable/user_guide/indexing.html#returning-a-view-versus-a-copy\n",
      "  validation_data.loc[: ,f\"predicted_{target}\"] = model.predict(validation_data[features])\n",
      "C:\\Users\\mace_\\AppData\\Local\\Temp\\ipykernel_10140\\736759985.py:13: SettingWithCopyWarning: \n",
      "A value is trying to be set on a copy of a slice from a DataFrame.\n",
      "Try using .loc[row_indexer,col_indexer] = value instead\n",
      "\n",
      "See the caveats in the documentation: https://pandas.pydata.org/pandas-docs/stable/user_guide/indexing.html#returning-a-view-versus-a-copy\n",
      "  train_data.loc[:,f\"predicted_{target}\"] = model.predict(train_data[features])\n",
      "C:\\Users\\mace_\\AppData\\Local\\Temp\\ipykernel_10140\\736759985.py:14: SettingWithCopyWarning: \n",
      "A value is trying to be set on a copy of a slice from a DataFrame.\n",
      "Try using .loc[row_indexer,col_indexer] = value instead\n",
      "\n",
      "See the caveats in the documentation: https://pandas.pydata.org/pandas-docs/stable/user_guide/indexing.html#returning-a-view-versus-a-copy\n",
      "  validation_data.loc[: ,f\"predicted_{target}\"] = model.predict(validation_data[features])\n",
      "C:\\Users\\mace_\\AppData\\Local\\Temp\\ipykernel_10140\\736759985.py:13: SettingWithCopyWarning: \n",
      "A value is trying to be set on a copy of a slice from a DataFrame.\n",
      "Try using .loc[row_indexer,col_indexer] = value instead\n",
      "\n",
      "See the caveats in the documentation: https://pandas.pydata.org/pandas-docs/stable/user_guide/indexing.html#returning-a-view-versus-a-copy\n",
      "  train_data.loc[:,f\"predicted_{target}\"] = model.predict(train_data[features])\n",
      "C:\\Users\\mace_\\AppData\\Local\\Temp\\ipykernel_10140\\736759985.py:14: SettingWithCopyWarning: \n",
      "A value is trying to be set on a copy of a slice from a DataFrame.\n",
      "Try using .loc[row_indexer,col_indexer] = value instead\n",
      "\n",
      "See the caveats in the documentation: https://pandas.pydata.org/pandas-docs/stable/user_guide/indexing.html#returning-a-view-versus-a-copy\n",
      "  validation_data.loc[: ,f\"predicted_{target}\"] = model.predict(validation_data[features])\n",
      "C:\\Users\\mace_\\AppData\\Local\\Temp\\ipykernel_10140\\736759985.py:13: SettingWithCopyWarning: \n",
      "A value is trying to be set on a copy of a slice from a DataFrame.\n",
      "Try using .loc[row_indexer,col_indexer] = value instead\n",
      "\n",
      "See the caveats in the documentation: https://pandas.pydata.org/pandas-docs/stable/user_guide/indexing.html#returning-a-view-versus-a-copy\n",
      "  train_data.loc[:,f\"predicted_{target}\"] = model.predict(train_data[features])\n",
      "C:\\Users\\mace_\\AppData\\Local\\Temp\\ipykernel_10140\\736759985.py:14: SettingWithCopyWarning: \n",
      "A value is trying to be set on a copy of a slice from a DataFrame.\n",
      "Try using .loc[row_indexer,col_indexer] = value instead\n",
      "\n",
      "See the caveats in the documentation: https://pandas.pydata.org/pandas-docs/stable/user_guide/indexing.html#returning-a-view-versus-a-copy\n",
      "  validation_data.loc[: ,f\"predicted_{target}\"] = model.predict(validation_data[features])\n",
      "C:\\Users\\mace_\\AppData\\Local\\Temp\\ipykernel_10140\\736759985.py:13: SettingWithCopyWarning: \n",
      "A value is trying to be set on a copy of a slice from a DataFrame.\n",
      "Try using .loc[row_indexer,col_indexer] = value instead\n",
      "\n",
      "See the caveats in the documentation: https://pandas.pydata.org/pandas-docs/stable/user_guide/indexing.html#returning-a-view-versus-a-copy\n",
      "  train_data.loc[:,f\"predicted_{target}\"] = model.predict(train_data[features])\n",
      "C:\\Users\\mace_\\AppData\\Local\\Temp\\ipykernel_10140\\736759985.py:14: SettingWithCopyWarning: \n",
      "A value is trying to be set on a copy of a slice from a DataFrame.\n",
      "Try using .loc[row_indexer,col_indexer] = value instead\n",
      "\n",
      "See the caveats in the documentation: https://pandas.pydata.org/pandas-docs/stable/user_guide/indexing.html#returning-a-view-versus-a-copy\n",
      "  validation_data.loc[: ,f\"predicted_{target}\"] = model.predict(validation_data[features])\n"
     ]
    },
    {
     "data": {
      "image/png": "[encoded data removed]",
      "text/plain": [
       "<Figure size 432x288 with 1 Axes>"
      ]
     },
     "metadata": {
      "needs_background": "light"
     },
     "output_type": "display_data"
    }
   ],
   "source": [
    "# How do we know how well this will do outside of our dataset?\n",
    "# Let's look at R**2 as a function of estimators\n",
    "\n",
    "training_r2s = []\n",
    "validation_r2s = []\n",
    "\n",
    "estimator_options = [1, 10, 25, 50, 75, 100, 150, 200, 500, 750, 1000]\n",
    "\n",
    "for estimators in estimator_options:\n",
    "    model = RandomForestRegressor(estimators)\n",
    "    model.fit(train_data[features], train_data[target])\n",
    "\n",
    "    train_data.loc[:,f\"predicted_{target}\"] = model.predict(train_data[features])\n",
    "    validation_data.loc[: ,f\"predicted_{target}\"] = model.predict(validation_data[features])\n",
    "\n",
    "    current_train_r2_score = r2_score(train_data[target], train_data[f\"predicted_{target}\"])\n",
    "    current_validation_r2_score = r2_score(validation_data[target], validation_data[f\"predicted_{target}\"])\n",
    "\n",
    "    # current_train_r2_score = mean_squared_error(train_data[target], train_data[f\"predicted_{target}\"])\n",
    "    # current_validation_r2_score = mean_squared_error(validation_data[target], validation_data[f\"predicted_{target}\"])\n",
    "\n",
    "    training_r2s.append(current_train_r2_score)\n",
    "    validation_r2s.append(current_validation_r2_score)\n",
    "\n",
    "plt.plot(estimator_options, training_r2s)\n",
    "plt.plot(estimator_options, validation_r2s)\n",
    "plt.legend([\"Training R2\", \"Validation R2\"])\n",
    "plt.show()"
   ]
  },
  {
   "cell_type": "code",
   "execution_count": null,
   "metadata": {},
   "outputs": [],
   "source": [
    "# Create predicted/actual plots"
   ]
  },
  {
   "cell_type": "code",
   "execution_count": 1,
   "metadata": {},
   "outputs": [
    {
     "ename": "NameError",
     "evalue": "name 'plt' is not defined",
     "output_type": "error",
     "traceback": [
      "\u001b[1;31m---------------------------------------------------------------------------\u001b[0m",
      "\u001b[1;31mNameError\u001b[0m                                 Traceback (most recent call last)",
      "\u001b[1;32mc:\\Users\\mace_\\OneDrive\\Documents\\GitHub\\lakota.aicode.camp\\week_one\\notebooks\\AirBnB Use Case\\airbnb_solution.ipynb Cell 14\u001b[0m in \u001b[0;36m<cell line: 1>\u001b[1;34m()\u001b[0m\n\u001b[1;32m----> <a href='vscode-notebook-cell:/c%3A/Users/mace_/OneDrive/Documents/GitHub/lakota.aicode.camp/week_one/notebooks/AirBnB%20Use%20Case/airbnb_solution.ipynb#ch0000011?line=0'>1</a>\u001b[0m fig, ax \u001b[39m=\u001b[39m plt\u001b[39m.\u001b[39msubplots(figsize\u001b[39m=\u001b[39m(\u001b[39m10\u001b[39m, \u001b[39m10\u001b[39m))\n\u001b[0;32m      <a href='vscode-notebook-cell:/c%3A/Users/mace_/OneDrive/Documents/GitHub/lakota.aicode.camp/week_one/notebooks/AirBnB%20Use%20Case/airbnb_solution.ipynb#ch0000011?line=1'>2</a>\u001b[0m train_data\u001b[39m.\u001b[39mplot(x\u001b[39m=\u001b[39m\u001b[39m'\u001b[39m\u001b[39mprices_fixed\u001b[39m\u001b[39m'\u001b[39m, y\u001b[39m=\u001b[39m\u001b[39mf\u001b[39m\u001b[39m\"\u001b[39m\u001b[39mpredicted_\u001b[39m\u001b[39m{\u001b[39;00mtarget\u001b[39m}\u001b[39;00m\u001b[39m\"\u001b[39m, ax\u001b[39m=\u001b[39max, kind\u001b[39m=\u001b[39m\u001b[39m\"\u001b[39m\u001b[39mscatter\u001b[39m\u001b[39m\"\u001b[39m)\n\u001b[0;32m      <a href='vscode-notebook-cell:/c%3A/Users/mace_/OneDrive/Documents/GitHub/lakota.aicode.camp/week_one/notebooks/AirBnB%20Use%20Case/airbnb_solution.ipynb#ch0000011?line=2'>3</a>\u001b[0m validation_data\u001b[39m.\u001b[39mplot(x\u001b[39m=\u001b[39m\u001b[39m'\u001b[39m\u001b[39mprices_fixed\u001b[39m\u001b[39m'\u001b[39m, y\u001b[39m=\u001b[39m\u001b[39mf\u001b[39m\u001b[39m\"\u001b[39m\u001b[39mpredicted_\u001b[39m\u001b[39m{\u001b[39;00mtarget\u001b[39m}\u001b[39;00m\u001b[39m\"\u001b[39m, ax\u001b[39m=\u001b[39max, kind\u001b[39m=\u001b[39m\u001b[39m\"\u001b[39m\u001b[39mscatter\u001b[39m\u001b[39m\"\u001b[39m, color\u001b[39m=\u001b[39m\u001b[39m\"\u001b[39m\u001b[39morange\u001b[39m\u001b[39m\"\u001b[39m)\n",
      "\u001b[1;31mNameError\u001b[0m: name 'plt' is not defined"
     ]
    }
   ],
   "source": [
    "fig, ax = plt.subplots(figsize=(10, 10))\n",
    "train_data.plot(x='prices_fixed', y=f\"predicted_{target}\", ax=ax, kind=\"scatter\")\n",
    "validation_data.plot(x='prices_fixed', y=f\"predicted_{target}\", ax=ax, kind=\"scatter\", color=\"orange\")\n",
    "plt.plot([i for i in range(int(max(train_data[\"prices_fixed\"])))], [i for i in range(int(max(train_data[\"prices_fixed\"])))])"
   ]
  },
  {
   "cell_type": "code",
   "execution_count": null,
   "metadata": {},
   "outputs": [],
   "source": []
  }
 ],
 "metadata": {
  "kernelspec": {
   "display_name": "Python 3.9.12 ('base')",
   "language": "python",
   "name": "python3"
  },
  "language_info": {
   "codemirror_mode": {
    "name": "ipython",
    "version": 3
   },
   "file_extension": ".py",
   "mimetype": "text/x-python",
   "name": "python",
   "nbconvert_exporter": "python",
   "pygments_lexer": "ipython3",
   "version": "3.9.12"
  },
  "orig_nbformat": 4,
  "vscode": {
   "interpreter": {
    "hash": "7fb7ad0f8a82f954bb85aafe9ace17708734a683d44db0d426f239eb44ff10c0"
   }
  }
 },
 "nbformat": 4,
 "nbformat_minor": 2
}
