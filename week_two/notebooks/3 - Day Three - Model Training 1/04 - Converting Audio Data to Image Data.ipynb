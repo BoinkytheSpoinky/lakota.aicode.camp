{
 "cells": [
  {
   "cell_type": "markdown",
   "id": "89350937",
   "metadata": {},
   "source": [
    "## How do we train a model on audio data?"
   ]
  },
  {
   "cell_type": "markdown",
   "id": "29fedb34",
   "metadata": {},
   "source": []
  }
 ],
 "metadata": {
  "language_info": {
   "name": "python"
  }
 },
 "nbformat": 4,
 "nbformat_minor": 5
}
