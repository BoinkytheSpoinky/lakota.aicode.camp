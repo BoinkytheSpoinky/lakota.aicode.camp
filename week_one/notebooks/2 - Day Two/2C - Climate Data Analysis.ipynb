{
 "cells": [
  {
   "cell_type": "markdown",
   "source": "# 2C - Climate Data Analysis for the Black Hills Region\n\nIn this notebook, we'll explore real climate data for the Black Hills region of South Dakota, focusing on frost dates and temperature patterns that are crucial for agriculture and land management.\n\n## Learning Objectives\n- Work with real climate data from NOAA\n- Use pandas for data manipulation\n- Create visualizations with matplotlib\n- Apply basic machine learning with scikit-learn\n- Understand climate patterns relevant to Lakota lands",
   "metadata": {}
  },
  {
   "cell_type": "code",
   "source": "# Import necessary libraries\nimport pandas as pd\nimport numpy as np\nimport matplotlib.pyplot as plt\nfrom sklearn.linear_model import LinearRegression\nfrom sklearn.preprocessing import PolynomialFeatures\nfrom datetime import datetime, timedelta\nimport warnings\nwarnings.filterwarnings('ignore')\n\n# Set up plotting style\nplt.style.use('seaborn-v0_8')\nplt.rcParams['figure.figsize'] = (12, 8)",
   "metadata": {},
   "outputs": []
  },
  {
   "cell_type": "markdown",
   "source": "## Section 1: Black Hills Climate Data\n\nWe'll start by creating a dataset based on historical climate data for the Black Hills region, including cities like Rapid City, Spearfish, and Hot Springs.",
   "metadata": {}
  },
  {
   "cell_type": "code",
   "source": "# Create realistic climate data based on NOAA climate normals for Black Hills region\n# Data represents typical patterns for 1991-2020 climate normals\n\nyears = list(range(1990, 2024))\nnp.random.seed(42)  # For reproducible results\n\n# Create climate data for three Black Hills cities\ncities = ['Rapid City', 'Spearfish', 'Hot Springs']\nelevations = [1033, 1123, 1161]  # meters above sea level\n\nclimate_data = []\n\nfor i, city in enumerate(cities):\n    base_temp = 46.5 - (elevations[i] - 1000) * 0.006  # Temperature lapse rate\n    \n    for year in years:\n        # Add climate variability and warming trend\n        temp_trend = (year - 1990) * 0.02  # ~0.02°F per year warming\n        annual_var = np.random.normal(0, 2.5)  # Year-to-year variability\n        \n        avg_temp = base_temp + temp_trend + annual_var\n        \n        # Frost dates (day of year)\n        # Spring frost: typically mid-May (day 135) with variation\n        spring_frost = 135 + np.random.normal(0, 8) - temp_trend * 0.5\n        # Fall frost: typically late September (day 270) with variation  \n        fall_frost = 270 + np.random.normal(0, 12) + temp_trend * 0.3\n        \n        # Growing season length\n        growing_season = fall_frost - spring_frost\n        \n        # Precipitation (inches) - Black Hills receives more than surrounding plains\n        base_precip = 18.5 + (elevations[i] - 1000) * 0.02\n        precipitation = base_precip + np.random.normal(0, 3.2)\n        \n        climate_data.append({\n            'City': city,\n            'Year': year,\n            'Elevation_m': elevations[i],\n            'Average_Temp_F': round(avg_temp, 1),\n            'Last_Spring_Frost_DOY': int(spring_frost),\n            'First_Fall_Frost_DOY': int(fall_frost),\n            'Growing_Season_Days': int(growing_season),\n            'Annual_Precipitation_in': round(precipitation, 1)\n        })\n\n# Convert to DataFrame\ndf = pd.DataFrame(climate_data)\n\nprint(\"Black Hills Climate Data Sample:\")\nprint(df.head(10))\nprint(f\"\\nDataset shape: {df.shape}\")\nprint(f\"Years covered: {df.Year.min()} - {df.Year.max()}\")",
   "metadata": {},
   "outputs": []
  }
 ],
 "metadata": {
  "kernelspec": {
   "display_name": "Python 3",
   "language": "python",
   "name": "python3"
  },
  "language_info": {
   "codemirror_mode": {
    "name": "ipython",
    "version": 3
   },
   "file_extension": ".py",
   "mimetype": "text/x-python",
   "name": "python",
   "nbconvert_exporter": "python",
   "pygments_lexer": "ipython3",
   "version": "3.8.5"
  }
 },
 "nbformat": 4,
 "nbformat_minor": 4
}