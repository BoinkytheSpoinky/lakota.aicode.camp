{
 "cells": [
  {
   "cell_type": "markdown",
   "metadata": {},
   "source": [
    "# Exercises\n",
    "\n",
    "Review data types, conditionals, loops, and functions with these exercises\n",
    "\n",
    "Exercises were taken from: https://pynative.com/python-basic-exercise-for-beginners/\n",
    "\n",
    "* * * * *"
   ]
  },
  {
   "cell_type": "markdown",
   "metadata": {},
   "source": [
    "## Exercise 1: Calculate the multiplication and sum of two numbers\n",
    "\n",
    "Given two integer numbers return their product only if the product is equal to or lower than 1000, else return their sum."
   ]
  },
  {
   "cell_type": "code",
   "execution_count": 2,
   "metadata": {},
   "outputs": [],
   "source": [
    "def exercise_1(num1, num2):\n",
    "    # Your code here\n",
    "    pass"
   ]
  },
  {
   "cell_type": "code",
   "execution_count": 4,
   "metadata": {},
   "outputs": [
    {
     "name": "stdout",
     "output_type": "stream",
     "text": [
      "Congrats! You passed Exercise 1!\n"
     ]
    }
   ],
   "source": [
    "exercise_1_test_1 = exercise_1(5, 50) == 250\n",
    "exercise_1_test_2 = exercise_1(100, 15) == 115\n",
    "\n",
    "if (exercise_1_test_1 and exercise_1_test_2):\n",
    "    print(\"Congrats! You passed Exercise 1!\")\n",
    "else:\n",
    "    print(\"Try again!\")"
   ]
  },
  {
   "cell_type": "markdown",
   "metadata": {},
   "source": [
    "## Exercise 2: Print the sum of the current number and the previous number\n",
    "\n",
    "Write a program to iterate the first 10 numbers and in each iteration, print the sum of the current and previous number."
   ]
  },
  {
   "cell_type": "code",
   "execution_count": 5,
   "metadata": {},
   "outputs": [],
   "source": [
    "def exercise_2():\n",
    "    # Your code here\n",
    "    pass"
   ]
  },
  {
   "cell_type": "code",
   "execution_count": 6,
   "metadata": {},
   "outputs": [],
   "source": [
    "# Tests not applicable for exercise 2, confirm with a partner or instructor"
   ]
  },
  {
   "cell_type": "markdown",
   "metadata": {},
   "source": [
    "## Exercise 3: Print characters from a string that are present at an even index number\n",
    "\n",
    "Write a program to accept a string from the user and return a string of the characters that are present at an even index number.\n",
    "\n",
    "For example, if str = \"pynative\", you should return \"pntv\"."
   ]
  },
  {
   "cell_type": "code",
   "execution_count": 14,
   "metadata": {},
   "outputs": [],
   "source": [
    "def exercise_3(string):\n",
    "    # Your code here\n",
    "    pass"
   ]
  },
  {
   "cell_type": "code",
   "execution_count": 15,
   "metadata": {},
   "outputs": [
    {
     "name": "stdout",
     "output_type": "stream",
     "text": [
      "Try again!\n"
     ]
    }
   ],
   "source": [
    "exercise_3_test_1 = exercise_3(\"hahahahahahaha\") == \"hhhhhhh\"\n",
    "exercise_3_test_2 = exercise_3(\"indigenous\") == \"idgnu\"\n",
    "\n",
    "if (exercise_3_test_1 and exercise_3_test_2):\n",
    "    print(\"Congrats! You passed Exercise 3!\")\n",
    "else:\n",
    "    print(\"Try again!\")"
   ]
  },
  {
   "cell_type": "markdown",
   "metadata": {},
   "source": [
    "## Exercise 4: Remove first n characters from a string\n",
    "\n",
    "Write a program to remove characters from a string starting from zero up to n and return a new string.\n",
    "\n",
    "For example:\n",
    "\n",
    "remove_chars(\"pynative\", 4), output must be \"tive\". Here we need to remove first four characters from a string.\n",
    "\n",
    "remove_chars(\"pynative\", 2), output must be \"native\". Here we need to remove first two characters from a string."
   ]
  },
  {
   "cell_type": "code",
   "execution_count": 16,
   "metadata": {},
   "outputs": [],
   "source": [
    "def exercise_4(string, n):\n",
    "    # Your code here\n",
    "    pass"
   ]
  },
  {
   "cell_type": "code",
   "execution_count": 17,
   "metadata": {},
   "outputs": [
    {
     "name": "stdout",
     "output_type": "stream",
     "text": [
      "Try again!\n"
     ]
    }
   ],
   "source": [
    "exercise_4_test_1 = exercise_4(\"pynative\", 4) == \"tive\"\n",
    "exercise_4_test_2 = exercise_4(\"pynative\", 2) == \"native\"\n",
    "\n",
    "if (exercise_4_test_1 and exercise_4_test_2):\n",
    "    print(\"Congrats! You passed Exercise 4!\")\n",
    "else:\n",
    "    print(\"Try again!\")"
   ]
  },
  {
   "cell_type": "markdown",
   "metadata": {},
   "source": [
    "## Exercise 5: Check if the first and last number of a list is the same\n",
    "\n",
    "Write a function to return True if the first and last number of a given list is same. If numbers are different then return False."
   ]
  },
  {
   "cell_type": "code",
   "execution_count": 18,
   "metadata": {},
   "outputs": [],
   "source": [
    "def exercise_5(list):\n",
    "    # Your code here\n",
    "    pass"
   ]
  },
  {
   "cell_type": "code",
   "execution_count": 19,
   "metadata": {},
   "outputs": [
    {
     "name": "stdout",
     "output_type": "stream",
     "text": [
      "Try again!\n"
     ]
    }
   ],
   "source": [
    "exercise_5_test_1 = exercise_5([10, 5, 2, 10]) == True\n",
    "exercise_5_test_2 = exercise_5([4, 3, 2, 1]) == False\n",
    "\n",
    "if (exercise_5_test_1 and exercise_5_test_2):\n",
    "    print(\"Congrats! You passed Exercise 5!\")\n",
    "else:\n",
    "    print(\"Try again!\")"
   ]
  },
  {
   "cell_type": "markdown",
   "metadata": {},
   "source": [
    "## Exercise 6: Display numbers divisible by 5 from a list\n",
    "\n",
    "Iterate through the given list of numbers and return a list with only the items that are divisible by 5."
   ]
  },
  {
   "cell_type": "code",
   "execution_count": 20,
   "metadata": {},
   "outputs": [],
   "source": [
    "def exercise_6(list):\n",
    "    # Your code here\n",
    "    pass"
   ]
  },
  {
   "cell_type": "code",
   "execution_count": 21,
   "metadata": {},
   "outputs": [
    {
     "name": "stdout",
     "output_type": "stream",
     "text": [
      "Try again!\n"
     ]
    }
   ],
   "source": [
    "exercise_6_test_1 = exercise_5([10, 5, 2, 10]) == [10, 5, 10]\n",
    "exercise_6_test_2 = exercise_5([4, 30, 2, 1]) == [30]\n",
    "\n",
    "if (exercise_6_test_1 and exercise_6_test_2):\n",
    "    print(\"Congrats! You passed Exercise 6!\")\n",
    "else:\n",
    "    print(\"Try again!\")"
   ]
  },
  {
   "cell_type": "markdown",
   "metadata": {},
   "source": [
    "## Exercise 7: Print the following pattern\n",
    "\n",
    "1\n",
    "\n",
    "2 2 \n",
    "\n",
    "3 3 3 \n",
    "\n",
    "4 4 4 4 \n",
    "\n",
    "5 5 5 5 5"
   ]
  },
  {
   "cell_type": "code",
   "execution_count": 22,
   "metadata": {},
   "outputs": [],
   "source": [
    "def exercise_7():\n",
    "    # Your code here\n",
    "    pass"
   ]
  },
  {
   "cell_type": "code",
   "execution_count": 23,
   "metadata": {},
   "outputs": [],
   "source": [
    "# No tests, but you'll know you're correct when your print matches the numbers above."
   ]
  },
  {
   "cell_type": "markdown",
   "metadata": {},
   "source": [
    "## Exercise 8: Print multiplication table from 1 to 10\n",
    "\n",
    "1  2 3 4 5 6 7 8 9 10 \n",
    "\t\n",
    "2  4 6 8 10 12 14 16 18 20 \t\t\n",
    "\n",
    "3  6 9 12 15 18 21 24 27 30 \t\t\n",
    "\n",
    "4  8 12 16 20 24 28 32 36 40 \t\t\n",
    "\n",
    "5  10 15 20 25 30 35 40 45 50 \t\t\n",
    "\n",
    "6  12 18 24 30 36 42 48 54 60 \t\t\n",
    "\n",
    "7  14 21 28 35 42 49 56 63 70 \t\t\n",
    "\n",
    "8  16 24 32 40 48 56 64 72 80 \t\t\n",
    "\n",
    "9  18 27 36 45 54 63 72 81 90 \t\t\n",
    "\n",
    "10 20 30 40 50 60 70 80 90 100 "
   ]
  },
  {
   "cell_type": "code",
   "execution_count": 24,
   "metadata": {},
   "outputs": [],
   "source": [
    "def exercise_8():\n",
    "    # Your code here\n",
    "    pass"
   ]
  },
  {
   "cell_type": "code",
   "execution_count": 25,
   "metadata": {},
   "outputs": [],
   "source": [
    "# Similar to exercise 7, no tests, but check that your print matches the numbers above."
   ]
  },
  {
   "cell_type": "markdown",
   "metadata": {},
   "source": [
    "## Exercise 9: Create the game 'Hangman'! We'll play it at the board to get the rules down."
   ]
  }
 ],
 "metadata": {
  "kernelspec": {
   "display_name": "Python 3.9.12 ('base')",
   "language": "python",
   "name": "python3"
  },
  "language_info": {
   "codemirror_mode": {
    "name": "ipython",
    "version": 3
   },
   "file_extension": ".py",
   "mimetype": "text/x-python",
   "name": "python",
   "nbconvert_exporter": "python",
   "pygments_lexer": "ipython3",
   "version": "3.9.12"
  },
  "orig_nbformat": 4,
  "vscode": {
   "interpreter": {
    "hash": "7fb7ad0f8a82f954bb85aafe9ace17708734a683d44db0d426f239eb44ff10c0"
   }
  }
 },
 "nbformat": 4,
 "nbformat_minor": 2
}
