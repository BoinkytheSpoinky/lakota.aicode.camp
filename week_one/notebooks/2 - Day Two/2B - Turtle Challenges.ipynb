{
 "cells": [
  {
   "cell_type": "markdown",
   "metadata": {},
   "source": [
    "# Functions and Turtle Challenge Workshop\n",
    "## Session 2 - Day Two\n",
    "\n",
    "**Welcome to the Turtle Challenge Workshop!** Today we'll learn about functions - one of the most powerful tools in programming - and then use them to create amazing turtle art and challenges.\n",
    "\n",
    "### What We'll Build Today:\n",
    "1. **Functions** - Create reusable blocks of code\n",
    "2. **Function Templates** - Fill-in-the-blank challenges for turtle graphics\n",
    "3. **Creative Challenges** - Use your new skills to create amazing art\n",
    "4. **Mini-Games** - Interactive turtle programs\n",
    "\n",
    "By the end of today, you'll have a toolkit of turtle functions and some amazing creations to show off!"
   ]
  },
  {
   "cell_type": "markdown",
   "metadata": {},
   "source": [
    "## Part 1: Introduction to Functions (30 minutes)\n",
    "\n",
    "### What are Functions?\n",
    "Functions are like recipes in programming. They take ingredients (parameters), follow a set of instructions, and often produce something (return a value). Functions help us:\n",
    "- **Avoid repetition** - Write code once, use it many times\n",
    "- **Organize code** - Break big problems into smaller pieces\n",
    "- **Make code readable** - Give meaningful names to blocks of code\n",
    "- **Share code** - Create tools others can use\n",
    "\n",
    "### Function Anatomy:\n",
    "```python\n",
    "def function_name(parameter1, parameter2):\n",
    "    \"\"\"This is a docstring - it explains what the function does\"\"\"\n",
    "    # Code that does something\n",
    "    return result  # Optional - send back a value\n",
    "```"
   ]
  },
  {
   "cell_type": "code",
   "execution_count": null,
   "metadata": {},
   "outputs": [],
   "source": [
    "# Let's start with our turtle setup\n",
    "import turtle\n",
    "import random\n",
    "\n",
    "# Create our turtle and screen\n",
    "screen = turtle.Screen()\n",
    "screen.bgcolor(\"black\")\n",
    "screen.setup(800, 600)\n",
    "screen.title(\"Turtle Function Workshop\")\n",
    "\n",
    "artist = turtle.Turtle()\n",
    "artist.speed(6)\n",
    "artist.color(\"white\")"
   ]
  },
  {
   "cell_type": "markdown",
   "metadata": {},
   "source": [
    "### Your First Functions"
   ]
  },
  {
   "cell_type": "code",
   "execution_count": null,
   "metadata": {},
   "outputs": [],
   "source": [
    "# Simple function - no parameters\n",
    "def draw_square():\n",
    "    \"\"\"Draws a square with side length 50\"\"\"\n",
    "    for i in range(4):\n",
    "        artist.forward(50)\n",
    "        artist.left(90)\n",
    "\n",
    "# Test our function\n",
    "artist.clear()\n",
    "draw_square()\n",
    "print(\"Drew a square!\")"
   ]
  },
  {
   "cell_type": "code",
   "execution_count": null,
   "metadata": {},
   "outputs": [],
   "source": [
    "# Function with parameters - much more useful!\n",
    "def draw_polygon(sides, size):\n",
    "    \"\"\"Draws a polygon with specified number of sides and size\"\"\"\n",
    "    angle = 360 / sides\n",
    "    for i in range(sides):\n",
    "        artist.forward(size)\n",
    "        artist.left(angle)\n",
    "\n",
    "# Test with different polygons\n",
    "artist.clear()\n",
    "draw_polygon(3, 60)   # Triangle\n",
    "artist.penup()\n",
    "artist.forward(100)\n",
    "artist.pendown()\n",
    "draw_polygon(6, 40)   # Hexagon\n",
    "artist.penup()\n",
    "artist.forward(100)\n",
    "artist.pendown()\n",
    "draw_polygon(8, 30)   # Octagon"
   ]
  },
  {
   "cell_type": "code",
   "execution_count": null,
   "metadata": {},
   "outputs": [],
   "source": [
    "# Function with default parameters\n",
    "def draw_star(size=50, color=\"yellow\"):\n",
    "    \"\"\"Draws a 5-pointed star with optional size and color\"\"\"\n",
    "    artist.color(color)\n",
    "    for i in range(5):\n",
    "        artist.forward(size)\n",
    "        artist.backward(size)\n",
    "        artist.left(72)  # 360 / 5 = 72\n",
    "\n",
    "# Test with defaults and custom values\n",
    "artist.clear()\n",
    "artist.goto(-100, 0)\n",
    "draw_star()  # Use defaults\n",
    "artist.goto(0, 0)\n",
    "draw_star(80, \"red\")  # Custom size and color\n",
    "artist.goto(100, 0)\n",
    "draw_star(color=\"blue\")  # Custom color, default size"
   ]
  },
  {
   "cell_type": "markdown",
   "metadata": {},
   "source": [
    "### 🎯 Exercise 1: Create Your Own Function\n",
    "Fill in the function below to draw a house!"
   ]
  },
  {
   "cell_type": "code",
   "execution_count": null,
   "metadata": {},
   "outputs": [],
   "source": [
    "def draw_house(size, roof_color=\"red\", wall_color=\"brown\"):\n",
    "    \"\"\"Draws a simple house with customizable size and colors\"\"\"\n",
    "    \n",
    "    # Draw the walls (square)\n",
    "    artist.color(wall_color)\n",
    "    # Your code here - draw a square for the walls\n",
    "    \n",
    "    # Draw the roof (triangle)\n",
    "    artist.color(roof_color)\n",
    "    # Your code here - draw a triangle for the roof\n",
    "    # Hint: You might need to position the turtle correctly first\n",
    "    \n",
    "    # Optional: Add a door or windows!\n",
    "    # Your creative additions here\n",
    "\n",
    "# Test your house function\n",
    "artist.clear()\n",
    "artist.goto(-100, -100)\n",
    "draw_house(80)\n",
    "artist.goto(100, -100)\n",
    "draw_house(60, \"blue\", \"yellow\")"
   ]
  },
  {
   "cell_type": "markdown",
   "metadata": {},
   "source": [
    "## Part 2: Building Your Turtle Toolkit (25 minutes)\n",
    "\n",
    "Let's create a collection of useful turtle functions that you can use in your challenges!"
   ]
  },
  {
   "cell_type": "code",
   "execution_count": null,
   "metadata": {},
   "outputs": [],
   "source": [
    "# Useful utility functions\n",
    "\n",
    "def move_to(x, y):\n",
    "    \"\"\"Move turtle to specific coordinates without drawing\"\"\"\n",
    "    artist.penup()\n",
    "    artist.goto(x, y)\n",
    "    artist.pendown()\n",
    "\n",
    "def random_color():\n",
    "    \"\"\"Returns a random color\"\"\"\n",
    "    colors = [\"red\", \"orange\", \"yellow\", \"green\", \"blue\", \"purple\", \"pink\", \"cyan\", \"magenta\"]\n",
    "    return random.choice(colors)\n",
    "\n",
    "def random_position():\n",
    "    \"\"\"Move to a random position on screen\"\"\"\n",
    "    x = random.randint(-300, 300)\n",
    "    y = random.randint(-200, 200)\n",
    "    move_to(x, y)\n",
    "\n",
    "# Test the utilities\n",
    "artist.clear()\n",
    "for i in range(5):\n",
    "    random_position()\n",
    "    artist.color(random_color())\n",
    "    artist.circle(20)"
   ]
  },
  {
   "cell_type": "markdown",
   "metadata": {},
   "source": [
    "### Function Templates - Fill in the Blanks!\n",
    "\n",
    "Complete these function templates. Each one is missing some key parts:"
   ]
  },
  {
   "cell_type": "code",
   "execution_count": null,
   "metadata": {},
   "outputs": [],
   "source": [
    "# Template 1: Spiral Function\n",
    "def draw_spiral(turns, start_size, growth):\n",
    "    \"\"\"Draws a spiral that grows outward\"\"\"\n",
    "    size = start_size\n",
    "    \n",
    "    for i in range(turns):\n",
    "        artist.forward(size)\n",
    "        artist.left(_____)  # Fill in: what angle creates a good spiral?\n",
    "        size += _____       # Fill in: how should the size grow?\n",
    "\n",
    "# Test your spiral\n",
    "artist.clear()\n",
    "artist.color(\"green\")\n",
    "draw_spiral(50, 5, 2)"
   ]
  },
  {
   "cell_type": "code",
   "execution_count": null,
   "metadata": {},
   "outputs": [],
   "source": [
    "# Template 2: Flower Function\n",
    "def draw_flower(petals, petal_size, center_color=\"yellow\"):\n",
    "    \"\"\"Draws a flower with specified number of petals\"\"\"\n",
    "    \n",
    "    # Draw petals\n",
    "    angle = 360 / petals\n",
    "    for i in range(petals):\n",
    "        artist.color(random_color())\n",
    "        # Fill in: draw one petal (could be a circle, oval, or custom shape)\n",
    "        _____\n",
    "        \n",
    "        artist.left(angle)  # Turn to position for next petal\n",
    "    \n",
    "    # Draw center\n",
    "    artist.color(center_color)\n",
    "    # Fill in: draw the center of the flower\n",
    "    _____\n",
    "\n",
    "# Test your flower\n",
    "artist.clear()\n",
    "draw_flower(8, 30)"
   ]
  },
  {
   "cell_type": "code",
   "execution_count": null,
   "metadata": {},
   "outputs": [],
   "source": [
    "# Template 3: Fractal Tree Function (Advanced!)\n",
    "def draw_tree(size, levels):\n",
    "    \"\"\"Draws a fractal tree with specified size and detail levels\"\"\"\n",
    "    \n",
    "    if levels == 0:  # Base case - stop recursion\n",
    "        return\n",
    "    \n",
    "    # Draw trunk\n",
    "    artist.forward(size)\n",
    "    \n",
    "    # Draw left branch\n",
    "    artist.left(30)\n",
    "    draw_tree(_____, levels - 1)  # Fill in: how big should branches be?\n",
    "    \n",
    "    # Draw right branch\n",
    "    artist.right(60)  # Turn to right (30 + 30)\n",
    "    draw_tree(_____, levels - 1)  # Fill in: same size as left branch\n",
    "    \n",
    "    # Return to starting position and heading\n",
    "    artist.left(30)\n",
    "    artist.backward(size)\n",
    "\n",
    "# Test your tree\n",
    "artist.clear()\n",
    "artist.goto(0, -200)\n",
    "artist.setheading(90)  # Point up\n",
    "artist.color(\"brown\")\n",
    "draw_tree(80, 4)"
   ]
  },
  {
   "cell_type": "markdown",
   "metadata": {},
   "source": [
    "## Part 3: Creative Challenges (55 minutes)\n",
    "\n",
    "Choose your own adventure! Pick challenges that interest you, or create your own.\n",
    "\n",
    "### 🌟 Challenge Level 1: Pattern Masters"
   ]
  },
  {
   "cell_type": "code",
   "execution_count": null,
   "metadata": {},
   "outputs": [],
   "source": [
    "# Challenge 1A: Rainbow Spiral\n",
    "# Create a function that draws a spiral where each segment is a different color\n",
    "\n",
    "def rainbow_spiral(segments):\n",
    "    \"\"\"Draw a colorful spiral with rainbow colors\"\"\"\n",
    "    colors = [\"red\", \"orange\", \"yellow\", \"green\", \"blue\", \"indigo\", \"violet\"]\n",
    "    \n",
    "    # Your code here!\n",
    "    # Hint: Use the modulo operator (%) to cycle through colors\n",
    "    pass\n",
    "\n",
    "# Test it!\n",
    "artist.clear()\n",
    "rainbow_spiral(50)"
   ]
  },
  {
   "cell_type": "code",
   "execution_count": null,
   "metadata": {},
   "outputs": [],
   "source": [
    "# Challenge 1B: Concentric Polygons\n",
    "# Draw multiple polygons inside each other, each with different colors\n",
    "\n",
    "def concentric_polygons(sides, layers, start_size):\n",
    "    \"\"\"Draw polygons inside each other\"\"\"\n",
    "    \n",
    "    # Your code here!\n",
    "    # Draw 'layers' number of polygons, each smaller than the last\n",
    "    pass\n",
    "\n",
    "# Test it!\n",
    "artist.clear()\n",
    "concentric_polygons(6, 5, 100)"
   ]
  },
  {
   "cell_type": "markdown",
   "metadata": {},
   "source": [
    "### 🌟🌟 Challenge Level 2: Interactive Art"
   ]
  },
  {
   "cell_type": "code",
   "execution_count": null,
   "metadata": {},
   "outputs": [],
   "source": [
    "# Challenge 2A: Click-to-Draw\n",
    "# Create a program where clicking on the screen draws something at that location\n",
    "\n",
    "def click_handler(x, y):\n",
    "    \"\"\"Function called when screen is clicked\"\"\"\n",
    "    move_to(x, y)\n",
    "    # Your code here - what should happen when someone clicks?\n",
    "    # Ideas: draw a star, flower, or random shape\n",
    "    pass\n",
    "\n",
    "# Set up click handling\n",
    "artist.clear()\n",
    "screen.onclick(click_handler)\n",
    "print(\"Click anywhere on the screen to draw!\")"
   ]
  },
  {
   "cell_type": "code",
   "execution_count": null,
   "metadata": {},
   "outputs": [],
   "source": [
    "# Challenge 2B: Keyboard Art\n",
    "# Use keyboard keys to control drawing\n",
    "\n",
    "def move_up():\n",
    "    artist.setheading(90)\n",
    "    artist.forward(20)\n",
    "\n",
    "def move_down():\n",
    "    artist.setheading(270)\n",
    "    artist.forward(20)\n",
    "\n",
    "def move_left():\n",
    "    artist.setheading(180)\n",
    "    artist.forward(20)\n",
    "\n",
    "def move_right():\n",
    "    artist.setheading(0)\n",
    "    artist.forward(20)\n",
    "\n",
    "def change_color():\n",
    "    artist.color(random_color())\n",
    "\n",
    "# Your code here - add more keyboard functions!\n",
    "# Ideas: pen up/down, clear screen, draw shapes\n",
    "\n",
    "# Set up keyboard controls\n",
    "screen.onkey(move_up, \"Up\")\n",
    "screen.onkey(move_down, \"Down\")\n",
    "screen.onkey(move_left, \"Left\")\n",
    "screen.onkey(move_right, \"Right\")\n",
    "screen.onkey(change_color, \"space\")\n",
    "# Add your new controls here!\n",
    "\n",
    "screen.listen()\n",
    "print(\"Use arrow keys to move, spacebar to change color!\")"
   ]
  },
  {
   "cell_type": "markdown",
   "metadata": {},
   "source": [
    "### 🌟🌟🌟 Challenge Level 3: Mini Games"
   ]
  },
  {
   "cell_type": "code",
   "execution_count": null,
   "metadata": {},
   "outputs": [],
   "source": [
    "# Challenge 3A: Simple Drawing Game\n",
    "# Create a game where the user tries to copy a pattern\n",
    "\n",
    "def create_target_pattern():\n",
    "    \"\"\"Create a pattern for the user to copy\"\"\"\n",
    "    artist.clear()\n",
    "    artist.color(\"gray\")\n",
    "    \n",
    "    # Your code here - create an interesting but copyable pattern\n",
    "    # Ideas: Simple geometric shapes, a house, a flower\n",
    "    pass\n",
    "\n",
    "def start_drawing_game():\n",
    "    \"\"\"Start the drawing game\"\"\"\n",
    "    create_target_pattern()\n",
    "    input(\"Study the pattern, then press Enter to start drawing!\")\n",
    "    \n",
    "    # Clear and let user draw\n",
    "    artist.clear()\n",
    "    artist.color(\"blue\")\n",
    "    print(\"Now try to recreate the pattern!\")\n",
    "    print(\"Use arrow keys to move, other keys for actions\")\n",
    "\n",
    "# Uncomment to try the game!\n",
    "# start_drawing_game()"
   ]
  },
  {
   "cell_type": "code",
   "execution_count": null,
   "metadata": {},
   "outputs": [],
   "source": [
    "# Challenge 3B: Turtle Race\n",
    "# Create multiple turtles that race across the screen\n",
    "\n",
    "def setup_race(num_turtles):\n",
    "    \"\"\"Set up multiple turtles for a race\"\"\"\n",
    "    turtles = []\n",
    "    colors = [\"red\", \"blue\", \"green\", \"yellow\", \"purple\", \"orange\"]\n",
    "    \n",
    "    for i in range(num_turtles):\n",
    "        racer = turtle.Turtle()\n",
    "        racer.shape(\"turtle\")\n",
    "        racer.color(colors[i % len(colors)])\n",
    "        racer.speed(1)\n",
    "        \n",
    "        # Position at starting line\n",
    "        start_y = (num_turtles * 30) // 2 - (i * 30)\n",
    "        racer.goto(-300, start_y)\n",
    "        \n",
    "        turtles.append(racer)\n",
    "    \n",
    "    return turtles\n",
    "\n",
    "def run_race(turtles):\n",
    "    \"\"\"Run the turtle race\"\"\"\n",
    "    race_on = True\n",
    "    \n",
    "    while race_on:\n",
    "        for racer in turtles:\n",
    "            # Each turtle moves a random distance\n",
    "            distance = random.randint(1, 10)\n",
    "            racer.forward(distance)\n",
    "            \n",
    "            # Check if this turtle won\n",
    "            if racer.xcor() > 300:\n",
    "                print(f\"The {racer.color()[0]} turtle wins!\")\n",
    "                race_on = False\n",
    "                break\n",
    "\n",
    "# Uncomment to run a race!\n",
    "# artist.clear()\n",
    "# racers = setup_race(4)\n",
    "# run_race(racers)"
   ]
  },
  {
   "cell_type": "markdown",
   "metadata": {},
   "source": [
    "### 🎨 Free Creative Time\n",
    "\n",
    "Use this space to create your own amazing turtle art! Combine functions, loops, conditionals, and creativity:"
   ]
  },
  {
   "cell_type": "code",
   "execution_count": null,
   "metadata": {},
   "outputs": [],
   "source": [
    "# Your masterpiece goes here!\n",
    "# Ideas to spark creativity:\n",
    "# - A cityscape with multiple houses\n",
    "# - A garden with different flowers\n",
    "# - Abstract geometric art\n",
    "# - A scene from nature\n",
    "# - An interactive drawing tool\n",
    "# - Your own mini-game\n",
    "\n",
    "artist.clear()\n",
    "artist.speed(6)\n",
    "\n",
    "# Your amazing creation here!\n"
   ]
  },
  {
   "cell_type": "markdown",
   "metadata": {},
   "source": [
    "## Show & Tell Time! (5 minutes)\n",
    "\n",
    "**Share your creations!** Take a moment to show off your favorite creation from today. What did you build? What was challenging? What are you most proud of?\n",
    "\n",
    "### Reflection Questions:\n",
    "1. How do functions make programming easier?\n",
    "2. What's the most interesting pattern or shape you created?\n",
    "3. If you could add one more feature to your creation, what would it be?\n",
    "4. How might you use these programming concepts outside of turtle graphics?\n",
    "\n",
    "### What We Accomplished Today:\n",
    "✅ **Functions** - Created reusable blocks of code  \n",
    "✅ **Parameters** - Made functions flexible and customizable  \n",
    "✅ **Problem Solving** - Broke complex challenges into smaller parts  \n",
    "✅ **Creativity** - Combined programming concepts to create original art  \n",
    "✅ **Debugging** - Fixed problems and improved our code  \n",
    "\n",
    "### Programming Skills You've Mastered:\n",
    "- **Variables** - Store and reuse information\n",
    "- **Conditionals** - Make decisions in code\n",
    "- **Loops** - Repeat actions efficiently\n",
    "- **Functions** - Create reusable, organized code\n",
    "- **Problem decomposition** - Break big problems into smaller ones\n",
    "\n",
    "These are the fundamental building blocks that professional programmers use every day! Tomorrow we'll take these skills and apply them to building a complete game. Great work today! 🚀🐢"
   ]
  },
  {
   "cell_type": "code",
   "execution_count": null,
   "metadata": {},
   "outputs": [],
   "source": [
    "# Save your work and clean up\n",
    "screen.exitonclick()\n",
    "print(\"Thanks for a great turtle workshop! See you tomorrow for game development!\")"
   ]
  }
 ],
 "metadata": {
  "kernelspec": {
   "display_name": "Python 3",
   "language": "python",
   "name": "python3"
  },
  "language_info": {
   "codemirror_mode": {
    "name": "ipython",
    "version": 3
   },
   "file_extension": ".py",
   "mimetype": "text/x-python",
   "name": "python",
   "nbconvert_exporter": "python",
   "pygments_lexer": "ipython3",
   "version": "3.8.5"
  }
 },
 "nbformat": 4,
 "nbformat_minor": 4
}