{
 "cells": [
  {
   "cell_type": "markdown",
   "id": "7544480f",
   "metadata": {},
   "source": [
    "## How should we treat data that is shared with us?"
   ]
  },
  {
   "cell_type": "markdown",
   "id": "a529f8ab",
   "metadata": {},
   "source": []
  }
 ],
 "metadata": {
  "kernelspec": {
   "display_name": "Python 3 (ipykernel)",
   "language": "python",
   "name": "python3"
  },
  "language_info": {
   "codemirror_mode": {
    "name": "ipython",
    "version": 3
   },
   "file_extension": ".py",
   "mimetype": "text/x-python",
   "name": "python",
   "nbconvert_exporter": "python",
   "pygments_lexer": "ipython3",
   "version": "3.10.12"
  }
 },
 "nbformat": 4,
 "nbformat_minor": 5
}
