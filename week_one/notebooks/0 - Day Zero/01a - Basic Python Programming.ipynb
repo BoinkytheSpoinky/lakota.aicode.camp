{
 "cells": [
  {
   "cell_type": "markdown",
   "metadata": {},
   "source": "# Basic Python Programming\\n\\nWelcome to your first real Python programming lesson! We'll learn the fundamentals of Python programming and explore the difference between Jupyter notebooks and Python scripts.\\n\\n**Learning Objectives**:\\n- Write your first Python programs\\n- Understand variables and basic data types\\n- Learn the difference between notebooks and Python scripts\\n- Run your first Python script\\n- Practice fundamental programming concepts\\n\\n* * * * *",
   "outputs": []
  },
  {
   "cell_type": "markdown",
   "metadata": {},
   "source": [
    "## Your First Python Programs\n",
    "\n",
    "Let's start with the classic \"Hello, World!\" program. This is traditionally the first program people write when learning a new language."
   ]
  },
  {
   "cell_type": "code",
   "execution_count": null,
   "metadata": {},
   "source": [
    "print(\"Hello, World!\")"
   ]
  },
  {
   "cell_type": "markdown",
   "metadata": {},
   "source": [
    "Congratulations! You just wrote a Python program. The `print()` function displays text on the screen. \n",
    "\n",
    "**Try it yourself**: In the cell below, write a print statement with your own message:"
   ]
  },
  {
   "cell_type": "code",
   "execution_count": null,
   "metadata": {},
   "source": [
    "# Write your own print statement here\n"
   ]
  },
  {
   "cell_type": "markdown",
   "metadata": {},
   "source": [
    "## Variables: Storing Information\n",
    "\n",
    "Variables are like labeled boxes where we can store information. Think of them as giving names to pieces of data so we can use them later."
   ]
  },
  {
   "cell_type": "code",
   "execution_count": null,
   "metadata": {},
   "source": [
    "# Creating variables\n",
    "my_name = \"Alex\"\n",
    "my_age = 16\n",
    "favorite_subject = \"Computer Science\"\n",
    "\n",
    "# Using variables\n",
    "print(my_name)\n",
    "print(my_age)\n",
    "print(favorite_subject)"
   ]
  },
  {
   "cell_type": "markdown",
   "metadata": {},
   "source": [
    "We can also combine variables in our print statements:"
   ]
  },
  {
   "cell_type": "code",
   "execution_count": null,
   "metadata": {},
   "source": [
    "# Combining variables with text\n",
    "print(f\"Hi! My name is {my_name} and I am {my_age} years old.\")\n",
    "print(f\"My favorite subject is {favorite_subject}.\")"
   ]
  },
  {
   "cell_type": "markdown",
   "metadata": {},
   "source": [
    "**Try it yourself**: Create variables for your own information and print an introduction:"
   ]
  },
  {
   "cell_type": "code",
   "execution_count": null,
   "metadata": {},
   "source": [
    "# Create your own variables here\n",
    "# Then print an introduction about yourself\n"
   ]
  },
  {
   "cell_type": "markdown",
   "metadata": {},
   "source": [
    "## Basic Math with Python\n",
    "\n",
    "Python can do math just like a calculator:"
   ]
  },
  {
   "cell_type": "code",
   "execution_count": null,
   "metadata": {},
   "source": [
    "# Basic math operations\n",
    "print(5 + 3)    # Addition\n",
    "print(10 - 4)   # Subtraction\n",
    "print(6 * 7)    # Multiplication\n",
    "print(15 / 3)   # Division"
   ]
  },
  {
   "cell_type": "markdown",
   "metadata": {},
   "source": [
    "We can store the results of math in variables:"
   ]
  },
  {
   "cell_type": "code",
   "execution_count": null,
   "metadata": {},
   "source": [
    "# Using variables with math\n",
    "length = 10\n",
    "width = 5\n",
    "area = length * width\n",
    "\n",
    "print(f\"A rectangle with length {length} and width {width} has an area of {area}\")"
   ]
  },
  {
   "cell_type": "markdown",
   "metadata": {},
   "source": "## Python Scripts vs Jupyter Notebooks\\n\\nSo far, we've been working in **Jupyter Notebooks**. These are great for learning, experimenting, and data analysis because you can run small pieces of code at a time.\\n\\nBut there's another way to write Python code: **Python Scripts**. Let's learn about the differences:\\n\\n### Jupyter Notebooks (.ipynb files)\\n- **Interactive**: Run one cell at a time\\n- **Great for**: Learning, experimenting, data analysis, documentation\\n- **Mixed content**: Code, text, and results all in one place\\n- **Cell-based**: Each piece of code is in a separate cell\\n\\n### Python Scripts (.py files)\\n- **Sequential**: Run the entire file from top to bottom\\n- **Great for**: Complete programs, tools, applications\\n- **Code-focused**: Primarily contain code with comments\\n- **File-based**: One complete program in a single file",
   "outputs": []
  },
  {
   "cell_type": "markdown",
   "metadata": {},
   "source": "## Introduction to Python Scripts\\n\\nLet's create our first Python script! We'll make a script that demonstrates turtle graphics - a fun way to create visual drawings with code.\\n\\n### What is a Python Script?\\nA Python script is a file containing Python code that runs from beginning to end. Unlike notebook cells that you run individually, scripts execute all their code at once.\\n\\n### Import Statements: Borrowing Code\\n\\nBefore we can use special features like graphics, we need to **import** them. Importing is like borrowing tools that someone else made:",
   "outputs": []
  },
  {
   "cell_type": "code",
   "metadata": {},
   "source": "# This is what an import statement looks like:\\n# from turtle import Turtle, Screen\\n\\n# We'll put our turtle code in a separate script file instead!",
   "outputs": []
  },
  {
   "cell_type": "markdown",
   "metadata": {},
   "source": "## Working with Python Scripts\\n\\nInstead of running turtle graphics in this notebook (which doesn't work very well), we've created a special Python script called `turtle_introduction.py`.\\n\\n### Why Use a Script for Turtle?\\n- **Better performance**: Turtle graphics work much better in scripts than notebooks\\n- **Complete programs**: Scripts show you how to write full programs\\n- **Real-world practice**: Most Python programs are written as scripts\\n\\n### How to Run a Python Script\\n\\nThere are several ways to run a Python script:\\n\\n**Method 1: From Jupyter (Easy)**\\nYou can run a script from a Jupyter notebook using the `%run` magic command:",
   "outputs": []
  },
  {
   "cell_type": "code",
   "metadata": {},
   "source": "# Run our turtle script from this notebook\\n%run turtle_introduction.py",
   "outputs": []
  },
  {
   "cell_type": "markdown",
   "metadata": {},
   "source": "**Method 2: From Command Line/Terminal**\\nIf you're using a terminal or command prompt, navigate to the folder containing the script and run:\\n```bash\\npython turtle_introduction.py\\n```\\n\\n**Method 3: From VS Code or Other Editors**\\nMost code editors have a \\\"Run\\\" button or use F5 to execute Python scripts.\\n\\n### What's in Our Turtle Script?\\n\\nThe `turtle_introduction.py` script contains several examples that demonstrate:\\n- Basic turtle commands and movement\\n- Drawing shapes like squares, triangles, and rectangles\\n- Using variables to make code flexible\\n- Adding colors to drawings\\n- Creating more complex designs\\n\\nWhen you run the script, it will show you each example one by one. Click on each window to continue to the next example.",
   "outputs": []
  },
  {
   "cell_type": "code",
   "metadata": {},
   "source": "# Let's run our turtle script to see the examples!\\n# If the above cell didn't work, try this alternative:\\n\\nimport subprocess\\nimport sys\\n\\ntry:\\n    # Try to run the script\\n    result = subprocess.run([sys.executable, 'turtle_introduction.py'], \\n                           capture_output=True, text=True, cwd='.')\\n    if result.returncode == 0:\\n        print(\\\"Script ran successfully!\\\")\\n        print(\\\"Output:\\\", result.stdout)\\n    else:\\n        print(\\\"Error running script:\\\", result.stderr)\\n        print(\\\"Note: You may need to run this script outside of the notebook\\\")\\n        print(\\\"Try opening a terminal and running: python turtle_introduction.py\\\")\\nexcept Exception as e:\\n    print(f\\\"Could not run script: {e}\\\")\\n    print(\\\"You can find the turtle_introduction.py file in this same folder\\\")\\n    print(\\\"Try running it directly from your file explorer or terminal\\\")",
   "outputs": []
  },
  {
   "cell_type": "markdown",
   "metadata": {},
   "source": [
    "### Using Variables with Turtle\n",
    "\n",
    "We can make our code more flexible by using variables:"
   ]
  },
  {
   "cell_type": "code",
   "execution_count": null,
   "metadata": {},
   "source": [
    "# Using variables to make our square customizable\n",
    "screen = Screen()\n",
    "screen.bgcolor(\"lightyellow\")\n",
    "screen.title(\"Customizable Square\")\n",
    "\n",
    "my_turtle = Turtle()\n",
    "my_turtle.speed(6)\n",
    "\n",
    "# Variables make our code flexible\n",
    "side_length = 150\n",
    "turn_angle = 90\n",
    "\n",
    "# Draw the square using variables\n",
    "my_turtle.forward(side_length)\n",
    "my_turtle.left(turn_angle)\n",
    "my_turtle.forward(side_length)\n",
    "my_turtle.left(turn_angle)\n",
    "my_turtle.forward(side_length)\n",
    "my_turtle.left(turn_angle)\n",
    "my_turtle.forward(side_length)\n",
    "my_turtle.left(turn_angle)\n",
    "\n",
    "screen.exitonclick()"
   ]
  },
  {
   "cell_type": "markdown",
   "metadata": {},
   "source": [
    "### Adding Color\n",
    "\n",
    "Let's make our drawings more colorful:"
   ]
  },
  {
   "cell_type": "code",
   "execution_count": null,
   "metadata": {},
   "source": [
    "# A colorful triangle\n",
    "screen = Screen()\n",
    "screen.bgcolor(\"black\")\n",
    "screen.title(\"Colorful Triangle\")\n",
    "\n",
    "color_turtle = Turtle()\n",
    "color_turtle.speed(4)\n",
    "color_turtle.pensize(3)  # Make the line thicker\n",
    "\n",
    "# Draw a triangle with different colored sides\n",
    "color_turtle.color(\"red\")\n",
    "color_turtle.forward(120)\n",
    "color_turtle.left(120)\n",
    "\n",
    "color_turtle.color(\"green\")\n",
    "color_turtle.forward(120)\n",
    "color_turtle.left(120)\n",
    "\n",
    "color_turtle.color(\"blue\")\n",
    "color_turtle.forward(120)\n",
    "color_turtle.left(120)\n",
    "\n",
    "screen.exitonclick()"
   ]
  },
  {
   "cell_type": "markdown",
   "metadata": {},
   "source": [
    "## Practice Exercises\n",
    "\n",
    "Now it's your turn! Try these exercises to practice what you've learned.\n",
    "\n",
    "### Exercise 1: Personal Introduction\n",
    "Create variables for your name, age, and favorite hobby. Then print a creative introduction using these variables."
   ]
  },
  {
   "cell_type": "code",
   "execution_count": null,
   "metadata": {},
   "source": [
    "# Exercise 1: Write your personal introduction here\n"
   ]
  },
  {
   "cell_type": "markdown",
   "metadata": {},
   "source": [
    "### Exercise 2: Rectangle Drawing\n",
    "Draw a rectangle using turtle graphics. Use variables for the length and width so you can easily change the size."
   ]
  },
  {
   "cell_type": "code",
   "execution_count": null,
   "metadata": {},
   "source": [
    "# Exercise 2: Draw a rectangle here\n",
    "# Remember: rectangles have two different side lengths!\n"
   ]
  },
  {
   "cell_type": "markdown",
   "metadata": {},
   "source": [
    "### Exercise 3: Creative Drawing\n",
    "Create your own drawing! Try combining different shapes, colors, or movements. Use the `penup()` and `pendown()` commands to move without drawing."
   ]
  },
  {
   "cell_type": "code",
   "execution_count": null,
   "metadata": {},
   "source": [
    "# Exercise 3: Create your own drawing here\n",
    "# Be creative! Try making a house, a face, or an abstract design\n"
   ]
  },
  {
   "cell_type": "markdown",
   "metadata": {},
   "source": [
    "## Programming as Instructions\n",
    "\n",
    "Working with turtle graphics helps us understand an important concept: **programming is about giving precise instructions**.\n",
    "\n",
    "Notice how we had to be very specific:\n",
    "- Exact distances (\"forward 100\")\n",
    "- Exact angles (\"left 90\")\n",
    "- Exact order of operations\n",
    "\n",
    "If we told the turtle \"draw a square\" it wouldn't know what to do. But when we break it down into simple steps (forward, turn, forward, turn...), the turtle can follow our instructions perfectly.\n",
    "\n",
    "This is exactly how all programming works - we break big problems into small, precise steps that the computer can understand."
   ]
  },
  {
   "cell_type": "markdown",
   "metadata": {},
   "source": [
    "## Troubleshooting Common Issues\n",
    "\n",
    "Here are some common problems you might encounter and how to fix them:\n",
    "\n",
    "### Problem: \"NameError: name 'turtle' is not defined\"\n",
    "**Solution**: Make sure you ran the import statement first:\n",
    "```python\n",
    "from turtle import Turtle, Screen\n",
    "```\n",
    "\n",
    "### Problem: The turtle window doesn't appear\n",
    "**Solution**: Make sure you include these lines:\n",
    "```python\n",
    "screen = Screen()\n",
    "# ... your turtle code ...\n",
    "screen.exitonclick()\n",
    "```\n",
    "\n",
    "### Problem: My shape doesn't look right\n",
    "**Solution**: Check your angles. Remember:\n",
    "- Squares use 90-degree turns\n",
    "- Triangles use 120-degree turns\n",
    "- The angles should add up correctly for your shape"
   ]
  },
  {
   "cell_type": "markdown",
   "metadata": {},
   "source": [
    "## Key Takeaways\n",
    "\n",
    "🐍 **Python uses simple, readable syntax - it's designed to be understood by humans**\n",
    "\n",
    "📦 **Variables store information so we can use it later**\n",
    "\n",
    "📚 **Import statements let us use code that others have written**\n",
    "\n",
    "🐢 **Turtle graphics help us visualize our code and practice giving precise instructions**\n",
    "\n",
    "🎯 **Programming is about breaking big problems into small, specific steps**\n",
    "\n",
    "🔄 **Practice makes perfect - the more you code, the more natural it becomes**\n",
    "\n",
    "---\n",
    "\n",
    "Excellent work! You've written your first Python programs and created graphics with turtle. In the next module, we'll explore the exciting world of artificial intelligence and machine learning, and see how the programming skills you're learning connect to cutting-edge technology! 🚀"
   ]
  }
 ],
 "metadata": {
  "kernelspec": {
   "display_name": "Python 3",
   "language": "python",
   "name": "python3"
  },
  "language_info": {
   "codemirror_mode": {
    "name": "ipython",
    "version": 3
   },
   "file_extension": ".py",
   "mimetype": "text/x-python",
   "name": "python",
   "nbconvert_exporter": "python",
   "pygments_lexer": "ipython3",
   "version": "3.8.5"
  }
 },
 "nbformat": 4,
 "nbformat_minor": 4
}