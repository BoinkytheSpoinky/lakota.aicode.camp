{
 "cells": [
  {
   "cell_type": "markdown",
   "id": "314c68b7",
   "metadata": {},
   "source": [
    "What kinds of audio data do we want to collect?"
   ]
  },
  {
   "cell_type": "markdown",
   "id": "9f02ee9f",
   "metadata": {},
   "source": []
  }
 ],
 "metadata": {
  "language_info": {
   "name": "python"
  }
 },
 "nbformat": 4,
 "nbformat_minor": 5
}
