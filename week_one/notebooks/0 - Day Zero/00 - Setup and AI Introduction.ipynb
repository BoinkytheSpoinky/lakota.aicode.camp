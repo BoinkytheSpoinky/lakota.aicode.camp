{
 "cells": [
  {
   "cell_type": "markdown",
   "metadata": {},
   "source": [
    "# Day 0 - Block 1: Welcome to AI & Getting Started!"
   ]
  },
  {
   "cell_type": "markdown",
   "metadata": {},
   "source": [
    "### Welcome!\n",
    "Welcome to our coding camp! In this first block, we have two main goals:\n",
    "1.  **Get our laptops set up** with the basic tools we'll need for coding in Python.\n",
    "2.  **Explore the exciting world of Artificial Intelligence (AI)**, see what it can do, and even try it for ourselves!"
   ]
  },
  {
   "cell_type": "markdown",
   "metadata": {},
   "source": [
    "## Part 1: Laptop Setup - Our Coding Toolkit (Approx. 30 mins)"
   ]
  },
  {
   "cell_type": "markdown",
   "metadata": {},
   "source": [
    "To start our Python journey, we need a couple of key pieces of software. Your instructor will guide you through this, but here’s an overview:\n",
    "\n",
    "**1. Anaconda (or Miniconda):**\n",
    "*   **What it is:** A popular distribution for Python. It includes Python itself, a way to manage different Python versions and packages (called `conda`), and tools like Jupyter Notebook (which we'll see later).\n",
    "*   **Why we need it:** It gives us a solid Python environment and makes it easy to install other helpful libraries later on.\n",
    "\n",
    "**2. VS Code (or Cursor):**\n",
    "*   **What it is:** A powerful, free code editor. Think of it as a super-smart notepad for writing code.\n",
    "*   **Why we need it:** We'll use it to write our Python scripts (our `.py` files)."
   ]
  },
  {
   "cell_type": "markdown",
   "metadata": {},
   "source": [
    "### Step 1: Install Anaconda\n",
    "1.  **Download:** Go to the [Anaconda Distribution download page](https://www.anaconda.com/products/distribution) (or your instructor might point you to Miniconda, a lighter version: [Miniconda download page](https://docs.conda.io/en/latest/miniconda.html)). Download the installer for your operating system (Windows, macOS, or Linux).\n",
    "2.  **Run the Installer:** Open the downloaded file and follow the on-screen instructions. For most users, the default settings are fine.\n",
    "3.  **Verify Installation:** \n",
    "    *   **Windows:** Open the 'Anaconda Prompt' from your Start Menu.\n",
    "    *   **macOS/Linux:** Open your regular Terminal application.\n",
    "    *   In the prompt/terminal, type `python --version` and press Enter. You should see a Python version displayed (e.g., `Python 3.9.x`).\n",
    "    *   Next, type `conda --version` and press Enter. You should see a conda version (e.g., `conda 4.x.x`).\n",
    "    *   If you see version numbers, you're good to go! If not, please ask for help."
   ]
  },
  {
   "cell_type": "markdown",
   "metadata": {},
   "source": [
    "### Step 2: Install VS Code (or Cursor)\n",
    "1.  **Download:** Go to the [VS Code download page](https://code.visualstudio.com/download) (or your instructor will guide you if you're using [Cursor](https://cursor.sh/)). Download the installer for your operating system.\n",
    "2.  **Run the Installer:** Open the downloaded file and follow the on-screen instructions."
   ]
  },
  {
   "cell_type": "markdown",
   "metadata": {},
   "source": [
    "### Step 3: Configure VS Code for Python\n",
    "1.  **Open VS Code.**\n",
    "2.  **Install the Python Extension:** \n",
    "    *   Look for the 'Extensions' icon on the left sidebar (it looks like four squares, with one detached).\n",
    "    *   In the search bar that appears, type `Python`.\n",
    "    *   Find the extension named 'Python' by Microsoft (it usually has millions of downloads) and click the 'Install' button.\n",
    "3.  That's it for now! We'll learn more about using VS Code for our Python projects as we go."
   ]
  },
  {
   "cell_type": "markdown",
   "metadata": {},
   "source": [
    "**Having trouble? Raise your hand or ask a neighbor for help! Getting set up is the first hurdle.**"
   ]
  },
  {
   "cell_type": "markdown",
   "metadata": {},
   "source": [
    "## Part 2: Exploring the World of AI (Approx. 60 mins)"
   ]
  },
  {
   "cell_type": "markdown",
   "metadata": {},
   "source": [
    "### AI In Your Daily Life\n",
    "Now that we're getting our tools ready, let's switch gears and talk about Artificial Intelligence!\n",
    "\n",
    "**Discussion Prompt:** Think for a minute... where do you already encounter AI in your everyday life? Let's share some ideas as a group!\n",
    "*Hint: Think about your phone, social media, online shopping, video games, movie recommendations...*"
   ]
  },
  {
   "cell_type": "markdown",
   "metadata": {},
   "source": [
    "### What is AI (A Simple View)?\n",
    "**Artificial Intelligence (AI)** basically means making computers do things that normally require human intelligence. This includes tasks like:\n",
    "*   Learning from experience\n",
    "*   Solving problems\n",
    "*   Understanding human language\n",
    "*   Recognizing patterns (like pictures or sounds)\n",
    "*   Making decisions"
   ]
  },
  {
   "cell_type": "markdown",
   "metadata": {},
   "source": [
    "### Hands-on with AI: Let's Try ChatGPT!\n",
    "One of the most talked-about AI tools today is **ChatGPT**. \n",
    "\n",
    "**What is it?** ChatGPT is a **Large Language Model (LLM)**. It's an AI that has been trained on a massive amount of text from the internet and books. Because of this training, it's very good at understanding what humans write and generating human-like text in response. You can ask it questions, have it write stories, brainstorm ideas, summarize text, translate languages, and much more!\n",
    "\n",
    "**Accessing ChatGPT:**\n",
    "1.  Open a web browser and go to: [https://chat.openai.com/](https://chat.openai.com/)\n",
    "2.  You might need to create a free account if you don't already have one. Click 'Sign up' and follow the instructions. If you have an account, click 'Log in'.\n",
    "    *Let's take a few minutes for everyone to get logged in. Ask for help if you need it!*"
   ]
  },
  {
   "cell_type": "markdown",
   "metadata": {},
   "source": [
    "**Let's Experiment!** \n",
    "Once you're in, you'll see a chat interface. Try typing these prompts into the message box at the bottom and see what ChatGPT says. Then, try one of your own!\n",
    "\n",
    "1.  `Write a short, funny poem about a robot who is afraid of spiders.`\n",
    "2.  `Explain the concept of gravity to a 5-year-old in three sentences.`\n",
    "3.  `Give me three creative ideas for a new type of video game that involves friendly monsters.`\n",
    "4.  **Your own prompt!** (What are you curious about? Ask ChatGPT! *Remember to keep it school-appropriate.*)"
   ]
  },
  {
   "cell_type": "markdown",
   "metadata": {},
   "source": [
    "**Discussion after trying ChatGPT:** \n",
    "Let's talk about your experience!\n",
    "*   What was the most surprising thing ChatGPT did or said?\n",
    "*   What was something cool or useful you saw it do?\n",
    "*   Did it make any mistakes or say anything that seemed a bit odd or nonsensical? (AI isn't perfect!)"
   ]
  },
  {
   "cell_type": "markdown",
   "metadata": {},
   "source": [
    "### Thinking About AI: The Awesome and The Awkward (Ethical Considerations)\n",
    "ChatGPT is pretty amazing, right? But with powerful tools come important questions.\n",
    "\n",
    "**Discussion Prompts:**\n",
    "*   How could a tool like ChatGPT be really **helpful** to people (students, writers, programmers, scientists, etc.)?\n",
    "*   How could it be **misused**? What are some potential problems or downsides if people rely on it too much or use it in the wrong way?\n",
    "\n",
    "**Some things to think about (your instructor will elaborate):**\n",
    "*   **Accuracy & \"Hallucinations\":** AI can sometimes make mistakes or even invent information that sounds true but isn't. It's super important to double-check important facts you get from an AI!\n",
    "*   **Bias:** AI learns from the data it's trained on. If that data contains human biases (about different groups of people, for example), the AI might learn and repeat those biases.\n",
    "*   **Authorship & Creativity:** If an AI helps you write a story or an essay, who is the real author? How does AI change our ideas about creativity?\n",
    "*   **Jobs & Skills:** How might AI tools change the kinds of jobs people do and the skills that are important in the future?"
   ]
  },
  {
   "cell_type": "markdown",
   "metadata": {},
   "source": [
    "### More Than Just Chat: Other Cool AI Examples!\n",
    "AI isn't just about chatbots. It's a huge field with many different kinds of applications! Here are just a few to spark your curiosity:\n",
    "\n",
    "*   **AI Art & Image Generation:** Tools like DALL-E, Midjourney, and Stable Diffusion can create images from text descriptions.\n",
    "    *   See DALL-E 2 examples from OpenAI: [https://openai.com/dall-e-2](https://openai.com/dall-e-2)\n",
    "    *   Explore the Midjourney community showcase: [https://www.midjourney.com/showcase/recent/](https://www.midjourney.com/showcase/recent/)\n",
    "    *   Try a Stable Diffusion demo (like this one on Hugging Face): [https://huggingface.co/spaces/stabilityai/stable-diffusion](https://huggingface.co/spaces/stabilityai/stable-diffusion)\n",
    "\n",
    "*   **AI Music:** AI can compose music in different styles, create soundtracks, and even generate new songs.\n",
    "    *   AIVA (AI Music Generation Assistant): [https://www.aiva.ai/](https://www.aiva.ai/)\n",
    "        *   Listen to AIVA's creations: [https://www.aiva.ai/creations](https://www.aiva.ai/creations)\n",
    "    *   Amper Music (Acquired by Shutterstock, now part of their offerings, but you can find many examples and articles about its capabilities by searching \"Amper Music AI examples\")\n",
    "\n",
    "*   **AI in Science & Medicine:** AI helps scientists discover new medicines, understand diseases, analyze huge amounts of data from space telescopes, and much more.\n",
    "    *   How AI is powering drug discovery (Nature article): [https://www.nature.com/articles/d41586-023-00437-7](https://www.nature.com/articles/d41586-023-00437-7) (This is a general overview)\n",
    "    *   Google DeepMind's AlphaFold (predicting protein structures, which is crucial for medicine): [https://www.deepmind.com/research/highlighted-research/alphafold](https://www.deepmind.com/research/highlighted-research/alphafold)\n",
    "\n",
    "*   **AI in Games:** From smart opponents that learn from you, to worlds that react to your actions, AI makes video games more immersive and can even help create game content.\n",
    "    *   GDC Vault (Game Developers Conference) often has talks on AI in games. Example: \"The Future of AI in Gaming\" [https://www.gdcvault.com/play/1029344/The-Future-of-AI-in](https://www.gdcvault.com/play/1029344/The-Future-of-AI-in) (May require free account for some content)\n",
    "    *   Article on how AI is changing the video game industry: [https://www.nbcbayarea.com/news/local/digital-originals/ai-artificial-intelligence-changing-video-game-industry/3856162/](https://www.nbcbayarea.com/news/local/digital-originals/ai-artificial-intelligence-changing-video-game-industry/3856162/)\n",
    "\n",
    "*(Note: Some links might require creating a free account or may change over time as these technologies evolve rapidly!)*"
   ]
  }
 ],
 "metadata": {
  "language_info": {
   "name": "python"
  }
 },
 "nbformat": 4,
 "nbformat_minor": 2
}
